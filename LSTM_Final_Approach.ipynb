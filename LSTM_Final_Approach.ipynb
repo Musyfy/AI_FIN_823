{
 "cells": [
  {
   "cell_type": "code",
   "execution_count": 1,
   "metadata": {},
   "outputs": [],
   "source": [
    "# from __future__ import absolute_import, division, print_function, unicode_literals\n",
    "# try:\n",
    "#   import tensorflow.compat.v2 as tf\n",
    "# except Exception:\n",
    "#   pass\n",
    "\n",
    "# tf.enable_v2_behavior()\n",
    "\n",
    "# print(tf.__version__)"
   ]
  },
  {
   "cell_type": "markdown",
   "metadata": {},
   "source": [
    "# Stock Market Predictions with LSTM\n",
    "\n",
    "Datacamp Tutorial: https://www.datacamp.com/community/tutorials/lstm-python-stock-market\n",
    "\n",
    "In this tutorial, you will see how you can use a time-series model known as Long Short-Term Memory (LSTM) models. LSTM models are powerful, especially retaining long-term memory, by their design as you will see later. You'll tackle the following topics in this tutorial:\n",
    "\n",
    "- Understand why should you need to be able to predict stock prices / movements\n",
    "- Download the data - You will be using stock market data gathered from Yahoo finance\n",
    "- Split train-test data and data normalization\n",
    "- See few averaging techniques that can be used for one-step ahead predictions\n",
    "- Motivate and briefly discuss an LSTM model as it allows to predict more than one-step ahead \n",
    "- Predict and visualize future stock market with current data\n",
    "- Final remarks\n",
    "\n",
    "## Why Do You Need Time Series Models?\n",
    "\n",
    "You would like to model this stock prices correctly, so as a stock buyer you can reasonably decide when to buy stocks and when to sell them to gain profit. This is where time series modelling comes in. You need good machine learning models that can look at the history of a sequence of data and correctly predict the future elements of the sequence are going to be.\n",
    "\n",
    "**Warning**: Stock market prices are highly unpredictable and volatile. This means that there are no consistent patterns in the data that allows us to model stock prices over time near-perfectly. Don't take it from me, take it from Princeton University economist Burton Malkiel, who argues in his 1973 book, \"A Random Walk Down Wall Street,\" that if the market is truly efficient and a share price reflects all factors immediately as soon as they're made public, a blindfolded monkey throwing darts at a newspaper stock listing should do as well as any investment professional.\n",
    "\n",
    "However, let's not go all the way believing that this is just a stochastic / random process and no hope for machine learning. Let's see if you can at least model the data, so that the predictions you make correlate with the actual behavior of the data. In other words, you don't need the exact stock values of the future, but the stock price movements (that is, if it is going to rise of fall in the near future)."
   ]
  },
  {
   "cell_type": "code",
   "execution_count": 2,
   "metadata": {},
   "outputs": [
    {
     "name": "stderr",
     "output_type": "stream",
     "text": [
      "C:\\ProgramData\\Anaconda3\\lib\\site-packages\\tensorflow\\python\\framework\\dtypes.py:517: FutureWarning: Passing (type, 1) or '1type' as a synonym of type is deprecated; in a future version of numpy, it will be understood as (type, (1,)) / '(1,)type'.\n",
      "  _np_qint8 = np.dtype([(\"qint8\", np.int8, 1)])\n",
      "C:\\ProgramData\\Anaconda3\\lib\\site-packages\\tensorflow\\python\\framework\\dtypes.py:518: FutureWarning: Passing (type, 1) or '1type' as a synonym of type is deprecated; in a future version of numpy, it will be understood as (type, (1,)) / '(1,)type'.\n",
      "  _np_quint8 = np.dtype([(\"quint8\", np.uint8, 1)])\n",
      "C:\\ProgramData\\Anaconda3\\lib\\site-packages\\tensorflow\\python\\framework\\dtypes.py:519: FutureWarning: Passing (type, 1) or '1type' as a synonym of type is deprecated; in a future version of numpy, it will be understood as (type, (1,)) / '(1,)type'.\n",
      "  _np_qint16 = np.dtype([(\"qint16\", np.int16, 1)])\n",
      "C:\\ProgramData\\Anaconda3\\lib\\site-packages\\tensorflow\\python\\framework\\dtypes.py:520: FutureWarning: Passing (type, 1) or '1type' as a synonym of type is deprecated; in a future version of numpy, it will be understood as (type, (1,)) / '(1,)type'.\n",
      "  _np_quint16 = np.dtype([(\"quint16\", np.uint16, 1)])\n",
      "C:\\ProgramData\\Anaconda3\\lib\\site-packages\\tensorflow\\python\\framework\\dtypes.py:521: FutureWarning: Passing (type, 1) or '1type' as a synonym of type is deprecated; in a future version of numpy, it will be understood as (type, (1,)) / '(1,)type'.\n",
      "  _np_qint32 = np.dtype([(\"qint32\", np.int32, 1)])\n",
      "C:\\ProgramData\\Anaconda3\\lib\\site-packages\\tensorflow\\python\\framework\\dtypes.py:526: FutureWarning: Passing (type, 1) or '1type' as a synonym of type is deprecated; in a future version of numpy, it will be understood as (type, (1,)) / '(1,)type'.\n",
      "  np_resource = np.dtype([(\"resource\", np.ubyte, 1)])\n"
     ]
    }
   ],
   "source": [
    "# Make sure that you have all these libaries available to run the code successfully\n",
    "from pandas_datareader import data\n",
    "import matplotlib.pyplot as plt\n",
    "import pandas as pd\n",
    "import datetime as dt\n",
    "import urllib.request, json \n",
    "import os\n",
    "import numpy as np\n",
    "import tensorflow as tf # This code has been tested with TensorFlow 1.6\n",
    "from sklearn.preprocessing import MinMaxScaler"
   ]
  },
  {
   "cell_type": "markdown",
   "metadata": {},
   "source": [
    "## 2. Download data\n",
    "\n",
    "You present code for using data from,\n",
    "\n",
    "1. Alpha Vantage. Before you start, however, you will first need an API key, which you can obtain for free [here](https://www.alphavantage.co/support/#api-key). After that, you can assigned that key to the `api_key` variable.\n",
    "\n",
    "2. Use the data from [this page](https://www.kaggle.com/borismarjanovic/price-volume-data-for-all-us-stocks-etfs). You will need to copy the *Stocks* folder in the zip file to your project home folder.\n",
    "\n",
    "Stock prices come in several different flavours. They are,\n",
    "* Open: Opening stock price of the day\n",
    "* Close: Closing stock price of the day\n",
    "* High: Highest stock price of the data\n",
    "* Low: Lowest stock price of the day\n",
    "\n",
    "### Getting Data from Alphavantage\n",
    "You will first load in the data from Alpha Vantage. Since you're going to make use of the American Airlines Stock market prices to make your predictions, you set the ticker to `\"AAL\"`. Additionally, you also define a `url_string`, which will return a JSON file with all the stock market data for American Airlines within last 20 years, and a `file_to_save`, which will be the file to which you save the data. You'll use the `ticker` variable that you defined beforehand to help name this file. \n",
    "\n",
    "Next, you're going to specify a condition: if you haven't already saved data, you will go ahead and grab the data from the URL that you set in `url_string`; You'll store the date, low, high, volume, close, open values to a pandas DataFrame `df` and you'll save it to `file_to_save`. However, if the data is already there, you'll just load it from the CSV. \n",
    "\n",
    "### Getting Data from Kaggle\n",
    "Data found in Kaggle is a collection of csv files and you don't have to do any preprocessing. So you directly load data into a Panda dataframe.\n"
   ]
  },
  {
   "cell_type": "code",
   "execution_count": 3,
   "metadata": {},
   "outputs": [],
   "source": [
    "# data_source = 'kaggle' # alphavantage or kaggle\n",
    "\n",
    "# if data_source == 'alphavantage':\n",
    "#     # ====================== Loading Data from Alpha Vantage ==================================\n",
    "\n",
    "#     api_key = '<your API key>'\n",
    "\n",
    "#     # American Airlines stock market prices\n",
    "#     ticker = \"AAL\" \n",
    "\n",
    "#     # JSON file with all the stock market data for AAL within the last 20 years\n",
    "#     url_string = \"https://www.alphavantage.co/query?function=TIME_SERIES_DAILY&symbol=%s&outputsize=full&apikey=%s\"%(ticker,api_key)\n",
    "\n",
    "#     # Save data to this file\n",
    "#     file_to_save = 'stock_market_data-%s.csv'%ticker\n",
    "\n",
    "#     # If you haven't already saved data,\n",
    "#     # Go ahead and grab the data from the url\n",
    "#     # And store date, low, high, volume, close, open values to a Pandas dataframe\n",
    "#     if not os.path.exists(file_to_save):\n",
    "#         with urllib.request.urlopen(url_string) as url:\n",
    "#             data = json.loads(url.read().decode())\n",
    "#             # extract stock market data\n",
    "#             data = data['Time Series (Daily)']\n",
    "#             df = pd.DataFrame(columns=['Date','Low','High','Close','Open'])\n",
    "#             for k,v in data.items():\n",
    "#                 date = dt.datetime.strptime(k, '%Y-%m-%d')\n",
    "#                 data_row = [date.date(),float(v['3. low']),float(v['2. high']),\n",
    "#                             float(v['4. close']),float(v['1. open'])]\n",
    "#                 df.loc[-1,:] = data_row\n",
    "#                 df.index = df.index + 1\n",
    "#         print('Data saved to : %s'%file_to_save)        \n",
    "#         df.to_csv(file_to_save)\n",
    "\n",
    "#     # If the data is already there, just load it from the CSV\n",
    "#     else:\n",
    "#         print('File already exists. Loading data from CSV')\n",
    "#         df = pd.read_csv(file_to_save)\n",
    "\n",
    "# else:\n",
    "    \n",
    "#     # ====================== Loading Data from Kaggle ==================================\n",
    "#     # You will be using HP's data. Feel free to experiment with other data. \n",
    "#     # But while doing so, be careful to have a large enough dataset and also pay attention to the data normalization\n",
    "#     df = pd.read_csv(os.path.join('Stocks','hpq.us.txt'),delimiter=',',usecols=['Date','Open','High','Low','Close'])\n",
    "#     print('Loaded data from the Kaggle repository')"
   ]
  },
  {
   "cell_type": "code",
   "execution_count": 4,
   "metadata": {},
   "outputs": [
    {
     "data": {
      "text/html": [
       "<div>\n",
       "<style scoped>\n",
       "    .dataframe tbody tr th:only-of-type {\n",
       "        vertical-align: middle;\n",
       "    }\n",
       "\n",
       "    .dataframe tbody tr th {\n",
       "        vertical-align: top;\n",
       "    }\n",
       "\n",
       "    .dataframe thead th {\n",
       "        text-align: right;\n",
       "    }\n",
       "</style>\n",
       "<table border=\"1\" class=\"dataframe\">\n",
       "  <thead>\n",
       "    <tr style=\"text-align: right;\">\n",
       "      <th></th>\n",
       "      <th>Date</th>\n",
       "      <th>Open</th>\n",
       "      <th>High</th>\n",
       "      <th>Low</th>\n",
       "      <th>Close</th>\n",
       "      <th>Volume</th>\n",
       "      <th>Ex-Dividend</th>\n",
       "      <th>Split Ratio</th>\n",
       "      <th>Adj. Open</th>\n",
       "      <th>Adj. High</th>\n",
       "      <th>Adj. Low</th>\n",
       "      <th>Adj. Close</th>\n",
       "      <th>Adj. Volume</th>\n",
       "    </tr>\n",
       "  </thead>\n",
       "  <tbody>\n",
       "    <tr>\n",
       "      <th>0</th>\n",
       "      <td>2015-08-14</td>\n",
       "      <td>528.25</td>\n",
       "      <td>534.1100</td>\n",
       "      <td>528.2500</td>\n",
       "      <td>531.52</td>\n",
       "      <td>1994799.0</td>\n",
       "      <td>0.0</td>\n",
       "      <td>1.0</td>\n",
       "      <td>528.25</td>\n",
       "      <td>534.1100</td>\n",
       "      <td>528.2500</td>\n",
       "      <td>531.52</td>\n",
       "      <td>1994799.0</td>\n",
       "    </tr>\n",
       "    <tr>\n",
       "      <th>1</th>\n",
       "      <td>2015-08-13</td>\n",
       "      <td>527.37</td>\n",
       "      <td>534.6600</td>\n",
       "      <td>525.4846</td>\n",
       "      <td>529.66</td>\n",
       "      <td>2895238.0</td>\n",
       "      <td>0.0</td>\n",
       "      <td>1.0</td>\n",
       "      <td>527.37</td>\n",
       "      <td>534.6600</td>\n",
       "      <td>525.4846</td>\n",
       "      <td>529.66</td>\n",
       "      <td>2895238.0</td>\n",
       "    </tr>\n",
       "    <tr>\n",
       "      <th>2</th>\n",
       "      <td>2015-08-12</td>\n",
       "      <td>523.75</td>\n",
       "      <td>527.5000</td>\n",
       "      <td>513.0600</td>\n",
       "      <td>525.91</td>\n",
       "      <td>4014684.0</td>\n",
       "      <td>0.0</td>\n",
       "      <td>1.0</td>\n",
       "      <td>523.75</td>\n",
       "      <td>527.5000</td>\n",
       "      <td>513.0600</td>\n",
       "      <td>525.91</td>\n",
       "      <td>4014684.0</td>\n",
       "    </tr>\n",
       "    <tr>\n",
       "      <th>3</th>\n",
       "      <td>2015-08-11</td>\n",
       "      <td>523.65</td>\n",
       "      <td>528.9800</td>\n",
       "      <td>522.0000</td>\n",
       "      <td>527.46</td>\n",
       "      <td>2676600.0</td>\n",
       "      <td>0.0</td>\n",
       "      <td>1.0</td>\n",
       "      <td>523.65</td>\n",
       "      <td>528.9800</td>\n",
       "      <td>522.0000</td>\n",
       "      <td>527.46</td>\n",
       "      <td>2676600.0</td>\n",
       "    </tr>\n",
       "    <tr>\n",
       "      <th>4</th>\n",
       "      <td>2015-08-10</td>\n",
       "      <td>528.52</td>\n",
       "      <td>532.2764</td>\n",
       "      <td>523.0000</td>\n",
       "      <td>524.00</td>\n",
       "      <td>2615926.0</td>\n",
       "      <td>0.0</td>\n",
       "      <td>1.0</td>\n",
       "      <td>528.52</td>\n",
       "      <td>532.2764</td>\n",
       "      <td>523.0000</td>\n",
       "      <td>524.00</td>\n",
       "      <td>2615926.0</td>\n",
       "    </tr>\n",
       "    <tr>\n",
       "      <th>...</th>\n",
       "      <td>...</td>\n",
       "      <td>...</td>\n",
       "      <td>...</td>\n",
       "      <td>...</td>\n",
       "      <td>...</td>\n",
       "      <td>...</td>\n",
       "      <td>...</td>\n",
       "      <td>...</td>\n",
       "      <td>...</td>\n",
       "      <td>...</td>\n",
       "      <td>...</td>\n",
       "      <td>...</td>\n",
       "      <td>...</td>\n",
       "    </tr>\n",
       "    <tr>\n",
       "      <th>5243</th>\n",
       "      <td>1999-12-29</td>\n",
       "      <td>83.44</td>\n",
       "      <td>85.3800</td>\n",
       "      <td>82.6300</td>\n",
       "      <td>83.50</td>\n",
       "      <td>5913000.0</td>\n",
       "      <td>0.0</td>\n",
       "      <td>1.0</td>\n",
       "      <td>83.44</td>\n",
       "      <td>85.3800</td>\n",
       "      <td>82.6300</td>\n",
       "      <td>83.50</td>\n",
       "      <td>5913000.0</td>\n",
       "    </tr>\n",
       "    <tr>\n",
       "      <th>5244</th>\n",
       "      <td>1999-12-28</td>\n",
       "      <td>83.06</td>\n",
       "      <td>86.5000</td>\n",
       "      <td>81.5600</td>\n",
       "      <td>82.31</td>\n",
       "      <td>10304300.0</td>\n",
       "      <td>0.0</td>\n",
       "      <td>1.0</td>\n",
       "      <td>83.06</td>\n",
       "      <td>86.5000</td>\n",
       "      <td>81.5600</td>\n",
       "      <td>82.31</td>\n",
       "      <td>10304300.0</td>\n",
       "    </tr>\n",
       "    <tr>\n",
       "      <th>5245</th>\n",
       "      <td>1999-12-27</td>\n",
       "      <td>87.75</td>\n",
       "      <td>88.2500</td>\n",
       "      <td>80.1300</td>\n",
       "      <td>81.13</td>\n",
       "      <td>16523800.0</td>\n",
       "      <td>0.0</td>\n",
       "      <td>1.0</td>\n",
       "      <td>87.75</td>\n",
       "      <td>88.2500</td>\n",
       "      <td>80.1300</td>\n",
       "      <td>81.13</td>\n",
       "      <td>16523800.0</td>\n",
       "    </tr>\n",
       "    <tr>\n",
       "      <th>5246</th>\n",
       "      <td>1999-12-23</td>\n",
       "      <td>98.00</td>\n",
       "      <td>99.0000</td>\n",
       "      <td>89.0600</td>\n",
       "      <td>90.00</td>\n",
       "      <td>12914600.0</td>\n",
       "      <td>0.0</td>\n",
       "      <td>1.0</td>\n",
       "      <td>98.00</td>\n",
       "      <td>99.0000</td>\n",
       "      <td>89.0600</td>\n",
       "      <td>90.00</td>\n",
       "      <td>12914600.0</td>\n",
       "    </tr>\n",
       "    <tr>\n",
       "      <th>5247</th>\n",
       "      <td>1999-12-22</td>\n",
       "      <td>100.60</td>\n",
       "      <td>100.6000</td>\n",
       "      <td>95.5000</td>\n",
       "      <td>97.69</td>\n",
       "      <td>5921000.0</td>\n",
       "      <td>0.0</td>\n",
       "      <td>1.0</td>\n",
       "      <td>100.60</td>\n",
       "      <td>100.6000</td>\n",
       "      <td>95.5000</td>\n",
       "      <td>97.69</td>\n",
       "      <td>5921000.0</td>\n",
       "    </tr>\n",
       "  </tbody>\n",
       "</table>\n",
       "<p>5248 rows × 13 columns</p>\n",
       "</div>"
      ],
      "text/plain": [
       "            Date    Open      High       Low   Close      Volume  Ex-Dividend  \\\n",
       "0     2015-08-14  528.25  534.1100  528.2500  531.52   1994799.0          0.0   \n",
       "1     2015-08-13  527.37  534.6600  525.4846  529.66   2895238.0          0.0   \n",
       "2     2015-08-12  523.75  527.5000  513.0600  525.91   4014684.0          0.0   \n",
       "3     2015-08-11  523.65  528.9800  522.0000  527.46   2676600.0          0.0   \n",
       "4     2015-08-10  528.52  532.2764  523.0000  524.00   2615926.0          0.0   \n",
       "...          ...     ...       ...       ...     ...         ...          ...   \n",
       "5243  1999-12-29   83.44   85.3800   82.6300   83.50   5913000.0          0.0   \n",
       "5244  1999-12-28   83.06   86.5000   81.5600   82.31  10304300.0          0.0   \n",
       "5245  1999-12-27   87.75   88.2500   80.1300   81.13  16523800.0          0.0   \n",
       "5246  1999-12-23   98.00   99.0000   89.0600   90.00  12914600.0          0.0   \n",
       "5247  1999-12-22  100.60  100.6000   95.5000   97.69   5921000.0          0.0   \n",
       "\n",
       "      Split Ratio  Adj. Open  Adj. High  Adj. Low  Adj. Close  Adj. Volume  \n",
       "0             1.0     528.25   534.1100  528.2500      531.52    1994799.0  \n",
       "1             1.0     527.37   534.6600  525.4846      529.66    2895238.0  \n",
       "2             1.0     523.75   527.5000  513.0600      525.91    4014684.0  \n",
       "3             1.0     523.65   528.9800  522.0000      527.46    2676600.0  \n",
       "4             1.0     528.52   532.2764  523.0000      524.00    2615926.0  \n",
       "...           ...        ...        ...       ...         ...          ...  \n",
       "5243          1.0      83.44    85.3800   82.6300       83.50    5913000.0  \n",
       "5244          1.0      83.06    86.5000   81.5600       82.31   10304300.0  \n",
       "5245          1.0      87.75    88.2500   80.1300       81.13   16523800.0  \n",
       "5246          1.0      98.00    99.0000   89.0600       90.00   12914600.0  \n",
       "5247          1.0     100.60   100.6000   95.5000       97.69    5921000.0  \n",
       "\n",
       "[5248 rows x 13 columns]"
      ]
     },
     "execution_count": 4,
     "metadata": {},
     "output_type": "execute_result"
    }
   ],
   "source": [
    "df = pd.read_csv(\"C:/Users/haddy.haggan/Downloads/part-00000-tid-5003776592327412020-a424f54e-b561-4c97-9974-108bc8072bc6-3076-1-c000.csv\")\n",
    "df"
   ]
  },
  {
   "cell_type": "code",
   "execution_count": null,
   "metadata": {},
   "outputs": [],
   "source": []
  },
  {
   "cell_type": "markdown",
   "metadata": {},
   "source": [
    "### Data Exploration\n",
    "\n",
    "Here you will print the data you collected in to the dataframe. You also will make sure that the data is sorted by the date. Because the order of data is crucial in time series modelling. "
   ]
  },
  {
   "cell_type": "code",
   "execution_count": 5,
   "metadata": {},
   "outputs": [
    {
     "data": {
      "text/html": [
       "<div>\n",
       "<style scoped>\n",
       "    .dataframe tbody tr th:only-of-type {\n",
       "        vertical-align: middle;\n",
       "    }\n",
       "\n",
       "    .dataframe tbody tr th {\n",
       "        vertical-align: top;\n",
       "    }\n",
       "\n",
       "    .dataframe thead th {\n",
       "        text-align: right;\n",
       "    }\n",
       "</style>\n",
       "<table border=\"1\" class=\"dataframe\">\n",
       "  <thead>\n",
       "    <tr style=\"text-align: right;\">\n",
       "      <th></th>\n",
       "      <th>Date</th>\n",
       "      <th>Open</th>\n",
       "      <th>High</th>\n",
       "      <th>Low</th>\n",
       "      <th>Close</th>\n",
       "      <th>Volume</th>\n",
       "      <th>Ex-Dividend</th>\n",
       "      <th>Split Ratio</th>\n",
       "      <th>Adj. Open</th>\n",
       "      <th>Adj. High</th>\n",
       "      <th>Adj. Low</th>\n",
       "      <th>Adj. Close</th>\n",
       "      <th>Adj. Volume</th>\n",
       "    </tr>\n",
       "  </thead>\n",
       "  <tbody>\n",
       "    <tr>\n",
       "      <th>2623</th>\n",
       "      <td>1997-05-16</td>\n",
       "      <td>22.38</td>\n",
       "      <td>23.75</td>\n",
       "      <td>20.50</td>\n",
       "      <td>20.75</td>\n",
       "      <td>1225000.0</td>\n",
       "      <td>0.0</td>\n",
       "      <td>1.0</td>\n",
       "      <td>1.865000</td>\n",
       "      <td>1.979167</td>\n",
       "      <td>1.708333</td>\n",
       "      <td>1.729167</td>\n",
       "      <td>14700000.0</td>\n",
       "    </tr>\n",
       "    <tr>\n",
       "      <th>2622</th>\n",
       "      <td>1997-05-19</td>\n",
       "      <td>20.50</td>\n",
       "      <td>21.25</td>\n",
       "      <td>19.50</td>\n",
       "      <td>20.50</td>\n",
       "      <td>508900.0</td>\n",
       "      <td>0.0</td>\n",
       "      <td>1.0</td>\n",
       "      <td>1.708333</td>\n",
       "      <td>1.770833</td>\n",
       "      <td>1.625000</td>\n",
       "      <td>1.708333</td>\n",
       "      <td>6106800.0</td>\n",
       "    </tr>\n",
       "    <tr>\n",
       "      <th>2621</th>\n",
       "      <td>1997-05-20</td>\n",
       "      <td>20.75</td>\n",
       "      <td>21.00</td>\n",
       "      <td>19.63</td>\n",
       "      <td>19.63</td>\n",
       "      <td>455600.0</td>\n",
       "      <td>0.0</td>\n",
       "      <td>1.0</td>\n",
       "      <td>1.729167</td>\n",
       "      <td>1.750000</td>\n",
       "      <td>1.635833</td>\n",
       "      <td>1.635833</td>\n",
       "      <td>5467200.0</td>\n",
       "    </tr>\n",
       "    <tr>\n",
       "      <th>2620</th>\n",
       "      <td>1997-05-21</td>\n",
       "      <td>19.25</td>\n",
       "      <td>19.75</td>\n",
       "      <td>16.50</td>\n",
       "      <td>17.13</td>\n",
       "      <td>1571100.0</td>\n",
       "      <td>0.0</td>\n",
       "      <td>1.0</td>\n",
       "      <td>1.604167</td>\n",
       "      <td>1.645833</td>\n",
       "      <td>1.375000</td>\n",
       "      <td>1.427500</td>\n",
       "      <td>18853200.0</td>\n",
       "    </tr>\n",
       "    <tr>\n",
       "      <th>2619</th>\n",
       "      <td>1997-05-22</td>\n",
       "      <td>17.25</td>\n",
       "      <td>17.38</td>\n",
       "      <td>15.75</td>\n",
       "      <td>16.75</td>\n",
       "      <td>981400.0</td>\n",
       "      <td>0.0</td>\n",
       "      <td>1.0</td>\n",
       "      <td>1.437500</td>\n",
       "      <td>1.448333</td>\n",
       "      <td>1.312500</td>\n",
       "      <td>1.395833</td>\n",
       "      <td>11776800.0</td>\n",
       "    </tr>\n",
       "  </tbody>\n",
       "</table>\n",
       "</div>"
      ],
      "text/plain": [
       "            Date   Open   High    Low  Close     Volume  Ex-Dividend  \\\n",
       "2623  1997-05-16  22.38  23.75  20.50  20.75  1225000.0          0.0   \n",
       "2622  1997-05-19  20.50  21.25  19.50  20.50   508900.0          0.0   \n",
       "2621  1997-05-20  20.75  21.00  19.63  19.63   455600.0          0.0   \n",
       "2620  1997-05-21  19.25  19.75  16.50  17.13  1571100.0          0.0   \n",
       "2619  1997-05-22  17.25  17.38  15.75  16.75   981400.0          0.0   \n",
       "\n",
       "      Split Ratio  Adj. Open  Adj. High  Adj. Low  Adj. Close  Adj. Volume  \n",
       "2623          1.0   1.865000   1.979167  1.708333    1.729167   14700000.0  \n",
       "2622          1.0   1.708333   1.770833  1.625000    1.708333    6106800.0  \n",
       "2621          1.0   1.729167   1.750000  1.635833    1.635833    5467200.0  \n",
       "2620          1.0   1.604167   1.645833  1.375000    1.427500   18853200.0  \n",
       "2619          1.0   1.437500   1.448333  1.312500    1.395833   11776800.0  "
      ]
     },
     "execution_count": 5,
     "metadata": {},
     "output_type": "execute_result"
    }
   ],
   "source": [
    "# Sort dataframe by date\n",
    "df = df.sort_values('Date')\n",
    "\n",
    "# Double check the result\n",
    "df.head()"
   ]
  },
  {
   "cell_type": "markdown",
   "metadata": {},
   "source": [
    "#### Data Visualization\n",
    "Now let's see what sort of data you have at our hand. You want data with various patters occurring over time."
   ]
  },
  {
   "cell_type": "code",
   "execution_count": 6,
   "metadata": {},
   "outputs": [
    {
     "data": {
      "image/png": "[encoded data removed]",
      "text/plain": [
       "<Figure size 1296x648 with 1 Axes>"
      ]
     },
     "metadata": {
      "needs_background": "light"
     },
     "output_type": "display_data"
    }
   ],
   "source": [
    "plt.figure(figsize = (18,9))\n",
    "plt.plot(range(df.shape[0]),(df['Low']+df['High'])/2.0)\n",
    "plt.xticks(range(0,df.shape[0],500),df['Date'].loc[::500],rotation=45)\n",
    "plt.xlabel('Date',fontsize=18)\n",
    "plt.ylabel('Mid Price',fontsize=18)\n",
    "plt.show()"
   ]
  },
  {
   "cell_type": "markdown",
   "metadata": {},
   "source": [
    "This graph already says a lot of things. The Specific reason I picked this company over others is that this graph is bursting with different behaviors of stock prices over time. This will make the learning more robust as well as give us a change to test how good the predictions are for a variety of situations. \n",
    "\n",
    "Another thing to notice is that the values close to 2017 are much higher and highly fluctuating than the values close to 1970s. Therefore you need to make sure that the data behaves in similar value ranges throughout the time frame. You will take care of this during the *data normalization*.\n"
   ]
  },
  {
   "cell_type": "markdown",
   "metadata": {},
   "source": [
    "## Breaking Data to Train and Test and Normalizing Data\n",
    "\n",
    "You will use the mid price calculated by taking the average of the highest and lowest recorded prices on a day"
   ]
  },
  {
   "cell_type": "code",
   "execution_count": 7,
   "metadata": {},
   "outputs": [
    {
     "name": "stderr",
     "output_type": "stream",
     "text": [
      "C:\\ProgramData\\Anaconda3\\lib\\site-packages\\ipykernel_launcher.py:2: FutureWarning: Method .as_matrix will be removed in a future version. Use .values instead.\n",
      "  \n",
      "C:\\ProgramData\\Anaconda3\\lib\\site-packages\\ipykernel_launcher.py:3: FutureWarning: Method .as_matrix will be removed in a future version. Use .values instead.\n",
      "  This is separate from the ipykernel package so we can avoid doing imports until\n"
     ]
    }
   ],
   "source": [
    "# First calculate the mid prices from the highest and lowest \n",
    "high_prices = df.loc[:,'High'].as_matrix()\n",
    "low_prices = df.loc[:,'Low'].as_matrix()\n",
    "mid_prices = (high_prices+low_prices)/2.0"
   ]
  },
  {
   "cell_type": "markdown",
   "metadata": {},
   "source": [
    "Now you can break the train data and test data. Train data will be the first 11000 data points of the time series and rest will be test data."
   ]
  },
  {
   "cell_type": "code",
   "execution_count": 8,
   "metadata": {},
   "outputs": [],
   "source": [
    "train_data = mid_prices[:1000]\n",
    "test_data = mid_prices[1000:]"
   ]
  },
  {
   "cell_type": "markdown",
   "metadata": {},
   "source": [
    "Now you need to define a scaler to normalize data `MinMaxScalar` scales all the data to be in the region of 0 and 1. You also reshape the train and test data to be in the shape `[data_size, num_features]`."
   ]
  },
  {
   "cell_type": "code",
   "execution_count": 9,
   "metadata": {},
   "outputs": [],
   "source": [
    "# Scale the data to be between 0 and 1\n",
    "# When scaling remember! You normalize both test and train data w.r.t training data\n",
    "# Because you are not supposed to have access to test data\n",
    "scaler = MinMaxScaler()\n",
    "train_data = train_data.reshape(-1,1)\n",
    "test_data = test_data.reshape(-1,1)"
   ]
  },
  {
   "cell_type": "markdown",
   "metadata": {},
   "source": [
    "Due to the observation you made earlier, that is, different time periods of data has different value ranges, you normalize data by breaking the full series to windows. If not the earlier data will all be close to 0 and will not add much value to learning. Here you choose a window size of 2500. When choosing the window size make sure it will not be too small. Because when performing windowed-normalization, it can introduce a break at the very end of each window, as each window is normalized independently. In our exampe, 4 data points will be affected by this. But given you have 11000 data points, 4 points will not cause any issue"
   ]
  },
  {
   "cell_type": "code",
   "execution_count": 10,
   "metadata": {},
   "outputs": [
    {
     "data": {
      "text/plain": [
       "(5248,)"
      ]
     },
     "execution_count": 10,
     "metadata": {},
     "output_type": "execute_result"
    }
   ],
   "source": [
    "mid_prices.shape"
   ]
  },
  {
   "cell_type": "code",
   "execution_count": 11,
   "metadata": {},
   "outputs": [],
   "source": [
    "# Train the Scaler with training data and smooth data \n",
    "smoothing_window_size = 25\n",
    "for di in range(0,100,smoothing_window_size):\n",
    "    scaler.fit(train_data[di:di+smoothing_window_size,:])\n",
    "    train_data[di:di+smoothing_window_size,:] = scaler.transform(train_data[di:di+smoothing_window_size,:])\n",
    "\n",
    "# You normalize the last bit of remaining data \n",
    "scaler.fit(train_data[di+smoothing_window_size:,:])\n",
    "train_data[di+smoothing_window_size:,:] = scaler.transform(train_data[di+smoothing_window_size:,:])"
   ]
  },
  {
   "cell_type": "markdown",
   "metadata": {},
   "source": [
    "Reshape data back to the shape of `[data_size]`"
   ]
  },
  {
   "cell_type": "code",
   "execution_count": 12,
   "metadata": {},
   "outputs": [],
   "source": [
    "# Reshape both train and test data\n",
    "train_data = train_data.reshape(-1)\n",
    "\n",
    "# Normalize test data\n",
    "test_data = scaler.transform(test_data).reshape(-1)"
   ]
  },
  {
   "cell_type": "markdown",
   "metadata": {},
   "source": [
    "You now smooth data using exponential moving average. This helps us to get rid of the inherent raggedness of the data in stock prices and preduce a smoother curve. Note that you should only smooth training data. "
   ]
  },
  {
   "cell_type": "code",
   "execution_count": 13,
   "metadata": {},
   "outputs": [],
   "source": [
    "# Now perform exponential moving average smoothing\n",
    "# So the data will have a smoother curve than the original ragged data\n",
    "EMA = 0.0\n",
    "gamma = 0.1\n",
    "for ti in range(1000):\n",
    "  EMA = gamma*train_data[ti] + (1-gamma)*EMA\n",
    "  train_data[ti] = EMA\n",
    "\n",
    "# Used for visualization and test purposes\n",
    "all_mid_data = np.concatenate([train_data,test_data],axis=0)"
   ]
  },
  {
   "cell_type": "markdown",
   "metadata": {},
   "source": [
    "## One-Step Ahead Prediction via Averaging \n",
    "\n",
    "Averaging mechanisms allows us to predict (often one time step ahead) by representing the future stock price as an average of the previously observed stock prices. Doing this for more than one time step can produce quite bad results. You will look at two averaging techniques below; standard averaging and exponential moving average. You will evaluate both qualitatively (visual inspection) and quantitatively (mean squared error) the results produced by two algorithms.\n",
    "\n",
    "Mean squared error (MSE) can be calculated by taking the mean squared error between the true value at one step ahead and the predicted value and averaging it over all the predictions.\n",
    "\n",
    "### Standard Average\n",
    "\n",
    "Let us understand the difficulty of this problem first by trying to model this as an average calculation problem. That is first you will try to predict the future stock market prices (for example, $x_{t+1}$) as an average of the previously observed stock market prices within a fixed size window (for example, $x_{t-N},\\ldots,x_{t}$) (say previous 100 days). Thereafter you will try a bit more fancier \"exponential moving average\" method and see how well that does. Then you will move on to the \"holy-grail\" of time-series prediction; Long Short-Term Memory models.\n",
    "\n",
    "First you will see how normal averaging works. That is you say,\n",
    "\n",
    "$x_{t+1} = 1/N \\sum_{i=t-N}^{t} x_i$\n",
    "\n",
    "In other words, you say the prediction at $t+1$ is the average value of all the stock prices you observed withing a window of $t$ to $t-N$."
   ]
  },
  {
   "cell_type": "code",
   "execution_count": 14,
   "metadata": {},
   "outputs": [
    {
     "name": "stdout",
     "output_type": "stream",
     "text": [
      "MSE error for standard averaging: 0.00550\n"
     ]
    }
   ],
   "source": [
    "window_size = 100\n",
    "N = train_data.size\n",
    "std_avg_predictions = []\n",
    "std_avg_x = []\n",
    "mse_errors = []\n",
    "\n",
    "for pred_idx in range(window_size,N):\n",
    "    \n",
    "    if pred_idx >= N:\n",
    "        date = dt.datetime.strptime(k, '%Y-%m-%d').date() + dt.timedelta(days=1)\n",
    "    else:\n",
    "        date = df.loc[pred_idx,'Date']\n",
    "        \n",
    "    std_avg_predictions.append(np.mean(train_data[pred_idx-window_size:pred_idx]))\n",
    "    mse_errors.append((std_avg_predictions[-1]-train_data[pred_idx])**2)\n",
    "    std_avg_x.append(date)\n",
    "\n",
    "print('MSE error for standard averaging: %.5f'%(0.5*np.mean(mse_errors)))"
   ]
  },
  {
   "cell_type": "markdown",
   "metadata": {},
   "source": [
    "\n",
    "Below you look at the averaged results. Well, it follows the actual behavior of stock quite closely. Next you look at a more accurate one-step prediction method"
   ]
  },
  {
   "cell_type": "code",
   "execution_count": 15,
   "metadata": {},
   "outputs": [
    {
     "data": {
      "image/png": "[encoded data removed]",
      "text/plain": [
       "<Figure size 1296x648 with 1 Axes>"
      ]
     },
     "metadata": {
      "needs_background": "light"
     },
     "output_type": "display_data"
    }
   ],
   "source": [
    "\n",
    "plt.figure(figsize = (18,9))\n",
    "plt.plot(range(df.shape[0]),all_mid_data,color='b',label='True')\n",
    "plt.plot(range(window_size,N),std_avg_predictions,color='orange',label='Prediction')\n",
    "#plt.xticks(range(0,df.shape[0],50),df['Date'].loc[::50],rotation=45)\n",
    "plt.xlabel('Date')\n",
    "plt.ylabel('Mid Price')\n",
    "plt.legend(fontsize=18)\n",
    "plt.show()"
   ]
  },
  {
   "cell_type": "markdown",
   "metadata": {},
   "source": [
    "So what does the above graphs (and the MSE) say? It seems that it is not too bad of a model for very short predictiosn (one day ahead). Given that stock prices don't change from 0 to 100 over night, this behavior is sensible. Next you look at a fancier averaging technique known as exponential moving average.\n",
    "\n",
    "### Exponential Moving Average (Replicating Some of the so-called amazing stock market prediction learning)\n",
    "\n",
    "You might have seen some articles in the internet using very complex models and predicting almost the exact behavior of the stock market. But **beware!** all of them I have seen are just optical illusions and not due to learning something useful. You will see below how you can replicate that behavior with a simple averaging method. \n",
    "\n",
    "In the exponential moving average method, you calculate $x_{t+1}$ as,\n",
    "\n",
    "* $x_{t+1} = EMA_{t} = \\gamma \\times EMA_{t-1} + (1-\\gamma) x_t$ where $EMA_0 = 0$ and $EMA$ is the exponential moving average value you maintain over time.\n",
    "\n",
    "The above equation basically calulates the exponential moving averag from $t+1$ time step and uses that as the one step ahead prediction. $\\gamma$ decides what is the contribution of the most recent prediction to the EMA. For example, a $\\gamma=0.1$ gets only 10% of the current value into the EMA. Because you take only a very small fraction of the most recent, it allows to preserve much older values you saw very early in the average. Let us look how good this looks when used to predict one-step ahead.\n",
    "\n"
   ]
  },
  {
   "cell_type": "code",
   "execution_count": 16,
   "metadata": {},
   "outputs": [
    {
     "name": "stdout",
     "output_type": "stream",
     "text": [
      "MSE error for EMA averaging: 0.00020\n"
     ]
    }
   ],
   "source": [
    "window_size = 100\n",
    "N = train_data.size\n",
    "\n",
    "run_avg_predictions = []\n",
    "run_avg_x = []\n",
    "\n",
    "mse_errors = []\n",
    "\n",
    "running_mean = 0.0\n",
    "run_avg_predictions.append(running_mean)\n",
    "\n",
    "decay = 0.5\n",
    "\n",
    "for pred_idx in range(1,N):\n",
    "    \n",
    "    running_mean = running_mean*decay + (1.0-decay)*train_data[pred_idx-1]\n",
    "    run_avg_predictions.append(running_mean)\n",
    "    mse_errors.append((run_avg_predictions[-1]-train_data[pred_idx])**2)\n",
    "    run_avg_x.append(date)\n",
    "\n",
    "print('MSE error for EMA averaging: %.5f'%(0.5*np.mean(mse_errors)))"
   ]
  },
  {
   "cell_type": "code",
   "execution_count": 17,
   "metadata": {},
   "outputs": [
    {
     "data": {
      "image/png": "[encoded data removed]",
      "text/plain": [
       "<Figure size 1296x648 with 1 Axes>"
      ]
     },
     "metadata": {
      "needs_background": "light"
     },
     "output_type": "display_data"
    }
   ],
   "source": [
    "\n",
    "plt.figure(figsize = (18,9))\n",
    "plt.plot(range(df.shape[0]),all_mid_data,color='b',label='True')\n",
    "plt.plot(range(0,N),run_avg_predictions,color='orange', label='Prediction')\n",
    "#plt.xticks(range(0,df.shape[0],50),df['Date'].loc[::50],rotation=45)\n",
    "plt.xlabel('Date')\n",
    "plt.ylabel('Mid Price')\n",
    "plt.legend(fontsize=18)\n",
    "plt.show()"
   ]
  },
  {
   "cell_type": "markdown",
   "metadata": {},
   "source": [
    "### If Exponential Moving Average is this Good, Why do You Need Better Models?\n",
    "\n",
    "You see that it fits a perfect line that follows the True distribution (and justified by the very low MSE). Practically speaking, you can't do much with just the stock market value of the next day. Personally what I'd like is not the exact stock market price for the next day, but *would the stock market prices go up or down in the next 30 days*. Try to do this, and you will expose the incapability of EMA method. \n",
    "\n",
    "Let us try to make predictions in windows (say you predict next 2 days window, instead of just next day). Then you will realize how wrong EMA can go. Let us understand this through an example.\n",
    "\n",
    "### Think About What Happens when You Need to Predict More Than One Step into the Future\n",
    "To make things concrete, let us assum values, say $x_t=0.4$, $EMA=0.5$ and $\\gamma = 0.5$\n",
    "* Say you get the output with the following equation\n",
    " * $x_{t+1} = EMA_t = \\gamma \\times EMA_{t-1} + (1-\\gamma) x_t$\n",
    " * So you have $x_{t+1} = 0.5 \\times 0.5 + (1-0.5) \\times 0.4 = 0.45$\n",
    " * So $x_{t+1} = EMA_t = 0.45$\n",
    "* So the next prediction $x_{t+2}$ becomes,\n",
    " * $x_{t+2} = \\gamma \\times EMA_t + (1-\\gamma) x_{t+1}$\n",
    " * Which is $x_{t+2} = \\gamma \\times EMA_t + (1-\\gamma) EMA_t = EMA_t$\n",
    " * Or in this example, $x_{t+2} = x_{t+1} = 0.45 $\n",
    " \n",
    "So no matter how many steps you predict in to the future, you'll keep getting the same answer for all the future prediction steps. \n",
    "\n",
    "One solution you have that will output useful information is to look at **momentum-based algorithms**. They make predictions based on whether the past recent values were going up or going down (not the exact values). For example, they will say the next day price is likely to be lower, if the prices have been dropping for that past days. Which sounds reasonable. However you will use a more complex model; an LSTM model. LSTM models have taken the realm of time series prediction by a storm! Because they are so good at modelling time series data. You will see if there actually exists patterns hidden in the data that the LSTM can exploit.\n"
   ]
  },
  {
   "cell_type": "markdown",
   "metadata": {},
   "source": [
    "## Introduction to LSTM: Making Stock Movement Predictions Far into the Future\n",
    "\n",
    "Long Short-Term Memory (LSTM) models are extremely powerful time-series models. A LSTM can predict an arbitrary number of steps into the future. A LSTM module (or a cell) has 5 essential components which allows them to model both long-term and short-term data. \n",
    "* Cell state ($c_t$) - This represents the internal memory of the cell which stores both short term memory and long-term memories\n",
    "* Hidden state ($h_t$) - This is output state information calculated w.r.t. current input, previous hidden state and current cell input which you eventually use to predict the future stock market prices. Additionally, the hidden state can decide to only retrive the short or long-term or both types of memory stored in the cell state to make the next prediction.\n",
    "* Input gate ($i_t$) - Decides how much information from current input flows to the cell state\n",
    "* Forget gate ($f_t$) - Decides how much information from the current input and the previous cell state flows into the current cell state\n",
    "5. Output gate ($o_t$) - Decides how much information from the current cell state flows into the hidden state, so that if needed LSTM can only pick the long-term memories or short-term memories and long-term memories\n",
    "\n",
    "An LSTM cell looks like below.\n",
    "\n",
    "<img src=\"lstm.png\" alt=\"Drawing\" style=\"width: 400px;\"/>\n",
    "\n",
    "And the equations for calculating each of these entities are as follows.\n",
    "\n",
    "* $i_t = \\sigma(W_{ix}x_t + W_{ih}h_{t-1}+b_i)$\n",
    "* $\\tilde{c}_t = \\sigma(W_{cx}x_t + W_{ch}h_{t-1} + b_c)$\n",
    "* $f_t = \\sigma(W_{fx}x_t + W_{fh}h_{t-1}+b_f)$\n",
    "* $c_t = f_t c_{t-1} + i_t \\tilde{c}_t$\n",
    "* $o_t = \\sigma(W_{ox}x_t + W_{oh}h_{t-1}+b_o)$\n",
    "* $h_t = o_t tanh(c_t)$\n",
    "\n",
    "For a better (more technical) understanding about LSTMs you can refer http://colah.github.io/posts/2015-08-Understanding-LSTMs/\n",
    "\n",
    "Tensorflow provides a nice sub API (called RNN API) for implementing time series models. You will be using that for our implementations.\n"
   ]
  },
  {
   "cell_type": "markdown",
   "metadata": {},
   "source": [
    "### Data Generator for LSTM\n",
    "\n",
    "You are first going to implement a data generator to train our LSTM. This data generator will have a method called **unroll_batches(...)** which will output a set of *num_unrollings* batches of input data obtained sequentially, where a batch of data is of size *[batch_size, 1]*. Then each batch of input data will have a corresponding output batch of data. \n",
    "\n",
    "For example if *num_unrollings=3* and *batch_size=4* a set of unrolled batches it might look like,\n",
    "* input data: $[x_0,x_10,x_20,x_30], [x_1,x_11,x_21,x_31], [x_2,x_12,x_22,x_32]$\n",
    "* output data: $[x_1,x_11,x_21,x_31], [x_2,x_12,x_22,x_32], [x_3,x_13,x_23,x_33]$\n",
    "\n",
    "#### Data Augmentation\n",
    "Also to make our model robust you will not make the output for $x_t$ always $x_{t+1}$. Rather you will randomly sample an output from the set $x_{t+1},x_{t+2},\\ldots,x_{t+N}$ where $N$ is a small window size. Here you are making the following assumption.\n",
    "\n",
    "* $x_{t+1},x_{t+2},\\ldots,x_{t+N}$ will not be very far from each other\n",
    "\n",
    "I personally think is a reasonable assumption for stock movement prediction.\n",
    "\n",
    "Below you illustrate how a batch of data is created visually.\n",
    "\n",
    "<img src=\"batch.png\" alt=\"Drawing\" style=\"width: 600px;\"/>"
   ]
  },
  {
   "cell_type": "code",
   "execution_count": 18,
   "metadata": {},
   "outputs": [
    {
     "name": "stdout",
     "output_type": "stream",
     "text": [
      "\n",
      "\n",
      "Unrolled index 0\n",
      "\tInputs:  [0.1        0.1716434  0.55103564 0.18958317 0.09019171]\n",
      "\n",
      "\tOutput: [0.19544795 0.17346235 0.5881663  0.19318539 0.09049025]\n",
      "\n",
      "\n",
      "Unrolled index 1\n",
      "\tInputs:  [0.15852518 0.17346235 0.56332535 0.19162366 0.09049025]\n",
      "\n",
      "\tOutput: [0.19544795 0.17824054 0.60922426 0.19783334 0.09145765]\n",
      "\n",
      "\n",
      "Unrolled index 2\n",
      "\tInputs:  [0.21011871 0.17587425 0.5881663  0.19318539 0.09145765]\n",
      "\n",
      "\tOutput: [0.21716438 0.18690842 0.630386   0.20140027 0.09353484]\n",
      "\n",
      "\n",
      "Unrolled index 3\n",
      "\tInputs:  [0.21716438 0.17824054 0.60922426 0.19452974 0.09217005]\n",
      "\n",
      "\tOutput: [0.20442794 0.18212447 0.6576281  0.20140027 0.09300561]\n",
      "\n",
      "\n",
      "Unrolled index 4\n",
      "\tInputs:  [0.19544795 0.18212447 0.630386   0.19559035 0.09242751]\n",
      "\n",
      "\tOutput: [0.23314059 0.18966429 0.7104109  0.20140027 0.09300561]\n"
     ]
    }
   ],
   "source": [
    "\n",
    "class DataGeneratorSeq(object):\n",
    "    \n",
    "    def __init__(self,prices,batch_size,num_unroll):\n",
    "        self._prices = prices\n",
    "        self._prices_length = len(self._prices) - num_unroll\n",
    "        self._batch_size = batch_size\n",
    "        self._num_unroll = num_unroll\n",
    "        self._segments = self._prices_length //self._batch_size\n",
    "        self._cursor = [offset * self._segments for offset in range(self._batch_size)]\n",
    "\n",
    "    def next_batch(self):\n",
    "        \n",
    "        batch_data = np.zeros((self._batch_size),dtype=np.float32)\n",
    "        batch_labels = np.zeros((self._batch_size),dtype=np.float32)\n",
    "        \n",
    "        for b in range(self._batch_size):\n",
    "            if self._cursor[b]+1>=self._prices_length:\n",
    "                #self._cursor[b] = b * self._segments\n",
    "                self._cursor[b] = np.random.randint(0,(b+1)*self._segments)\n",
    "                \n",
    "            batch_data[b] = self._prices[self._cursor[b]]\n",
    "            batch_labels[b]= self._prices[self._cursor[b]+np.random.randint(1,5)]\n",
    "            \n",
    "            self._cursor[b] = (self._cursor[b]+1)%self._prices_length\n",
    "            \n",
    "        return batch_data,batch_labels\n",
    "    \n",
    "    def unroll_batches(self):\n",
    "            \n",
    "        unroll_data,unroll_labels = [],[]\n",
    "        init_data, init_label = None,None\n",
    "        for ui in range(self._num_unroll):\n",
    "            \n",
    "            data, labels = self.next_batch()    \n",
    "\n",
    "            unroll_data.append(data)\n",
    "            unroll_labels.append(labels)\n",
    "\n",
    "        return unroll_data, unroll_labels\n",
    "    \n",
    "    def reset_indices(self):\n",
    "        for b in range(self._batch_size):\n",
    "            self._cursor[b] = np.random.randint(0,min((b+1)*self._segments,self._prices_length-1))\n",
    "        \n",
    "\n",
    "\n",
    "dg = DataGeneratorSeq(train_data,5,5)\n",
    "u_data, u_labels = dg.unroll_batches()\n",
    "\n",
    "for ui,(dat,lbl) in enumerate(zip(u_data,u_labels)):   \n",
    "    print('\\n\\nUnrolled index %d'%ui)\n",
    "    dat_ind = dat\n",
    "    lbl_ind = lbl\n",
    "    print('\\tInputs: ',dat )\n",
    "    print('\\n\\tOutput:',lbl)\n",
    "    "
   ]
  },
  {
   "cell_type": "markdown",
   "metadata": {},
   "source": [
    "### Defining Hyperparameters\n",
    "\n",
    "Here you define several hyperparameters. `D` is the dimensionality of the input. It's straightforward as you take the previous stock price as the input and predict the next, and should be 1. Then you have `num_unrollings`, this is a hyperparameter related to the backpropagation through time (BPTT) that is used to optimize the LSTM model. This denotes how many continuous time steps you consider for a single optimization step. You can think of this as, instead of optimizing the LSTM by looking at a single time step, you optimize the network looking at `num_unrollings` time steps. Larger the better. Then you have the `batch_size`. Batch size is how many data samples you consider in a single time steps. Next you define `num_nodes` which represents the number of hidden neurons in each LSTM cell. You can see that there are three layers of LSTMs in this example."
   ]
  },
  {
   "cell_type": "code",
   "execution_count": 93,
   "metadata": {},
   "outputs": [],
   "source": [
    "# from tensorflow.keras.models import Sequential\n",
    "# from tensorflow.keras.layers import Conv2D\n",
    "# from tensorflow.keras.layers import MaxPool2D\n",
    "# from tensorflow.keras.layers import Flatten\n",
    "# from tensorflow.keras.layers import Dense\n",
    "\n",
    "D = 1 # Dimensionality of the data. Since our data is 1-D this would be 1\n",
    "num_unrollings = 50 # Number of time steps you look into the future.\n",
    "batch_size = 500 # Number of samples in a batch\n",
    "num_nodes = [200,200,200,200,200,150] # Number of hidden nodes in each layer of the deep LSTM stack we're using\n",
    "n_layers = len(num_nodes) # number of layers\n",
    "dropout = 0.2 # dropout amount\n",
    "\n",
    "tf.reset_default_graph() # This is important in case you run this multiple times"
   ]
  },
  {
   "cell_type": "code",
   "execution_count": null,
   "metadata": {},
   "outputs": [],
   "source": []
  },
  {
   "cell_type": "markdown",
   "metadata": {},
   "source": [
    "### Defining Inputs and Outputs\n",
    "\n",
    "Next you define placeholders for training inputs and labels. This is very straightforward as you have a list of input placeholders, where each placeholder contains a single batch of data. And the list has `num_unrollings` placeholders, that will be used at once for a single optimization step."
   ]
  },
  {
   "cell_type": "code",
   "execution_count": 94,
   "metadata": {},
   "outputs": [],
   "source": [
    "# Input data.\n",
    "train_inputs, train_outputs = [],[]\n",
    "\n",
    "# You unroll the input over time defining placeholders for each time step\n",
    "for ui in range(num_unrollings):\n",
    "    train_inputs.append(tf.placeholder(tf.float32, shape=[batch_size,D],name='train_inputs_%d'%ui))\n",
    "    train_outputs.append(tf.placeholder(tf.float32, shape=[batch_size,1], name = 'train_outputs_%d'%ui))\n"
   ]
  },
  {
   "cell_type": "markdown",
   "metadata": {},
   "source": [
    "### Defining Parameters of the LSTM and Regression layer \n",
    "\n",
    "You will have a three layers of LSTMs and a linear regression layer (denoted by `w` and `b`), that takes the output of the last LSTM cell and output the prediction for the next time step. You can use the `MultiRNNCell` in TensorFlow to encapsualate the three `LSTMCell` objects you created. Additionally you can have the dropout implemented LSTM cells, as they improve performance and reduce overfitting."
   ]
  },
  {
   "cell_type": "code",
   "execution_count": 95,
   "metadata": {},
   "outputs": [],
   "source": [
    "import tensorflow as tf\n",
    "\n",
    "lstm_cells = [\n",
    "    tf.contrib.rnn.LSTMCell(num_units=num_nodes[li],\n",
    "                            state_is_tuple=True,\n",
    "                            initializer= tf.contrib.layers.xavier_initializer()\n",
    "                           )\n",
    " for li in range(n_layers)]\n",
    "\n",
    "drop_lstm_cells = [tf.contrib.rnn.DropoutWrapper(\n",
    "    lstm, input_keep_prob=1.0,output_keep_prob=1.0-dropout, state_keep_prob=1.0-dropout\n",
    ") for lstm in lstm_cells]\n",
    "\n",
    "\n",
    "drop_multi_cell = tf.contrib.rnn.MultiRNNCell(drop_lstm_cells)\n",
    "multi_cell = tf.contrib.rnn.MultiRNNCell(lstm_cells)\n",
    "\n",
    "w = tf.get_variable('w',shape=[num_nodes[-1], 1], initializer=tf.contrib.layers.xavier_initializer())\n",
    "b = tf.get_variable('b',initializer=tf.random_uniform([1],-0.1,0.1))"
   ]
  },
  {
   "cell_type": "markdown",
   "metadata": {},
   "source": [
    "### Calculating LSTM output and Feeding it to the regression layer to get final prediction\n",
    "\n",
    "In this section, you first create TensorFlow variables (`c` and `h`) that will hold the cell state and the hidden state of the LSTM. Then you transform the list of `train_inputs` to have a shape of `[num_unrollings, batch_size, D]`, this is needed for calculating the outputs with the `tf.nn.dynamic_rnn` function.  You then calculate the lstm outputs with the `tf.nn.dynamic_rnn` function and split the output back to a list of `num_unrolling` tensors. the loss between the predictions and true stock prices."
   ]
  },
  {
   "cell_type": "code",
   "execution_count": 96,
   "metadata": {},
   "outputs": [],
   "source": [
    "# Create cell state and hidden state variables to maintain the state of the LSTM\n",
    "c, h = [],[]\n",
    "initial_state = []\n",
    "for li in range(n_layers):\n",
    "  c.append(tf.Variable(tf.zeros([batch_size, num_nodes[li]]), trainable=False))\n",
    "  h.append(tf.Variable(tf.zeros([batch_size, num_nodes[li]]), trainable=False))\n",
    "  initial_state.append(tf.contrib.rnn.LSTMStateTuple(c[li], h[li]))\n",
    "\n",
    "# Do several tensor transofmations, because the function dynamic_rnn requires the output to be of \n",
    "# a specific format. Read more at: https://www.tensorflow.org/api_docs/python/tf/nn/dynamic_rnn\n",
    "all_inputs = tf.concat([tf.expand_dims(t,0) for t in train_inputs],axis=0)\n",
    "\n",
    "# all_outputs is [seq_length, batch_size, num_nodes]\n",
    "all_lstm_outputs, state = tf.nn.dynamic_rnn(\n",
    "    drop_multi_cell, all_inputs, initial_state=tuple(initial_state),\n",
    "    time_major = True, dtype=tf.float32)\n",
    "\n",
    "all_lstm_outputs = tf.reshape(all_lstm_outputs, [batch_size*num_unrollings,num_nodes[-1]])\n",
    "\n",
    "all_outputs = tf.nn.xw_plus_b(all_lstm_outputs,w,b)\n",
    "\n",
    "split_outputs = tf.split(all_outputs,num_unrollings,axis=0)"
   ]
  },
  {
   "cell_type": "markdown",
   "metadata": {},
   "source": [
    "### Loss Calculation and Optimizer\n",
    "\n",
    "Here you calculate the loss. However note that there is a unique characteristic when calculating the loss. For each batch of predictions and true outputs, you calculate the mean squared error. And you sum (not average) all these mean squared losses together. Finally you define the optimizer you're going to use to optimize the LSTM. Here you can use Adam, which is a very recent and well-performing optimizer."
   ]
  },
  {
   "cell_type": "code",
   "execution_count": 97,
   "metadata": {},
   "outputs": [
    {
     "name": "stdout",
     "output_type": "stream",
     "text": [
      "Defining training Loss\n",
      "Learning rate decay operations\n",
      "TF Optimization operations\n",
      "\tAll done\n"
     ]
    }
   ],
   "source": [
    "# When calculating the loss you need to be careful about the exact form, because you calculate\n",
    "# loss of all the unrolled steps at the same time\n",
    "# Therefore, take the mean error or each batch and get the sum of that over all the unrolled steps\n",
    "\n",
    "print('Defining training Loss')\n",
    "loss = 0.0\n",
    "with tf.control_dependencies([tf.assign(c[li], state[li][0]) for li in range(n_layers)]+\n",
    "                             [tf.assign(h[li], state[li][1]) for li in range(n_layers)]):\n",
    "  for ui in range(num_unrollings):\n",
    "    loss += tf.reduce_mean(0.5*(split_outputs[ui]-train_outputs[ui])**2)\n",
    "\n",
    "print('Learning rate decay operations')\n",
    "global_step = tf.Variable(0, trainable=False)\n",
    "inc_gstep = tf.assign(global_step,global_step + 1)\n",
    "tf_learning_rate = tf.placeholder(shape=None,dtype=tf.float32)\n",
    "tf_min_learning_rate = tf.placeholder(shape=None,dtype=tf.float32)\n",
    "\n",
    "learning_rate = tf.maximum(\n",
    "    tf.train.exponential_decay(tf_learning_rate, global_step, decay_steps=1, decay_rate=0.5, staircase=True),\n",
    "    tf_min_learning_rate)\n",
    "\n",
    "# Optimizer.\n",
    "print('TF Optimization operations')\n",
    "optimizer = tf.train.AdamOptimizer(learning_rate)\n",
    "gradients, v = zip(*optimizer.compute_gradients(loss))\n",
    "gradients, _ = tf.clip_by_global_norm(gradients, 5.0)\n",
    "optimizer = optimizer.apply_gradients(\n",
    "    zip(gradients, v))\n",
    "\n",
    "print('\\tAll done')"
   ]
  },
  {
   "cell_type": "markdown",
   "metadata": {},
   "source": [
    "### Prediction Related Calculations\n",
    "\n",
    "Here you define the prediction related TensorFlow operations. First define a placeholder for feeding in the input (`sample_inputs`), then similar to the training stage, you define state variables for prediction (`sample_c` and `sample_h`). Finally you calculate the prediction with the `tf.nn.dynamic_rnn` function and then sending the output through the regression layer (`w` and `b`). You also should define the `reset_sample_state` opeartion, that resets the cell state and the hidden state of the LSTM. You should execute this operation at the start, every time you make a sequence of predictions.\n"
   ]
  },
  {
   "cell_type": "code",
   "execution_count": 98,
   "metadata": {},
   "outputs": [
    {
     "name": "stdout",
     "output_type": "stream",
     "text": [
      "Defining prediction related TF functions\n",
      "\tAll done\n"
     ]
    }
   ],
   "source": [
    "print('Defining prediction related TF functions')\n",
    "\n",
    "sample_inputs = tf.placeholder(tf.float32, shape=[1,D])\n",
    "\n",
    "# Maintaining LSTM state for prediction stage\n",
    "sample_c, sample_h, initial_sample_state = [],[],[]\n",
    "for li in range(n_layers):\n",
    "  sample_c.append(tf.Variable(tf.zeros([1, num_nodes[li]]), trainable=False))\n",
    "  sample_h.append(tf.Variable(tf.zeros([1, num_nodes[li]]), trainable=False))\n",
    "  initial_sample_state.append(tf.contrib.rnn.LSTMStateTuple(sample_c[li],sample_h[li]))\n",
    "\n",
    "reset_sample_states = tf.group(*[tf.assign(sample_c[li],tf.zeros([1, num_nodes[li]])) for li in range(n_layers)],\n",
    "                               *[tf.assign(sample_h[li],tf.zeros([1, num_nodes[li]])) for li in range(n_layers)])\n",
    "\n",
    "sample_outputs, sample_state = tf.nn.dynamic_rnn(multi_cell, tf.expand_dims(sample_inputs,0),\n",
    "                                   initial_state=tuple(initial_sample_state),\n",
    "                                   time_major = True,\n",
    "                                   dtype=tf.float32)\n",
    "\n",
    "with tf.control_dependencies([tf.assign(sample_c[li],sample_state[li][0]) for li in range(n_layers)]+\n",
    "                              [tf.assign(sample_h[li],sample_state[li][1]) for li in range(n_layers)]):  \n",
    "  sample_prediction = tf.nn.xw_plus_b(tf.reshape(sample_outputs,[1,-1]), w, b)\n",
    "\n",
    "print('\\tAll done')"
   ]
  },
  {
   "cell_type": "markdown",
   "metadata": {},
   "source": [
    "### Running the LSTM\n",
    "\n",
    "Here you will train and predict stock price movements for several epochs and see whether the predictions get better or worse over time. You follow the following procedure.\n",
    "* Define a test set of starting points (`test_points_seq`) on the time series to evaluate the LSTM at\n",
    "* For each epoch\n",
    " * For full sequence length of training data\n",
    "   * Unroll a set of `num_unrollings` batches\n",
    "   * Train the LSTM with the unrolled batches\n",
    " * Calculate the average training loss\n",
    " * For each starting point in the test set\n",
    "   * Update the LSTM state by iterating through the previous `num_unrollings` data points found before the test point\n",
    "   * Make predictions for `n_predict_once` steps continuously, using the previous prediction as the current input\n",
    "   * Calculate the MSE loss between the `n_predict_once` points predicted and the true stock prices at those time stamps"
   ]
  },
  {
   "cell_type": "code",
   "execution_count": 99,
   "metadata": {
    "scrolled": true
   },
   "outputs": [
    {
     "name": "stdout",
     "output_type": "stream",
     "text": [
      "Initialized\n",
      "Average loss at step 1: 2.585135\n"
     ]
    },
    {
     "name": "stderr",
     "output_type": "stream",
     "text": [
      "C:\\ProgramData\\Anaconda3\\lib\\site-packages\\ipykernel_launcher.py:94: DeprecationWarning: np.asscalar(a) is deprecated since NumPy v1.16, use a.item() instead\n"
     ]
    },
    {
     "name": "stdout",
     "output_type": "stream",
     "text": [
      "\tTest MSE: 0.00061\n",
      "\tFinished Predictions\n",
      "Average loss at step 2: 1.782322\n",
      "\tTest MSE: 0.00107\n",
      "\tFinished Predictions\n",
      "Average loss at step 3: 1.458413\n",
      "\tTest MSE: 0.00199\n",
      "\tFinished Predictions\n",
      "Average loss at step 4: 0.941209\n",
      "\tDecreasing learning rate by 0.5\n",
      "\tTest MSE: 0.00412\n",
      "\tFinished Predictions\n",
      "Average loss at step 5: 0.274415\n",
      "\tTest MSE: 0.00624\n",
      "\tFinished Predictions\n",
      "Average loss at step 6: 0.258189\n",
      "\tTest MSE: 0.00897\n",
      "\tFinished Predictions\n",
      "Average loss at step 7: 0.315643\n",
      "\tDecreasing learning rate by 0.5\n",
      "\tTest MSE: 0.01054\n",
      "\tFinished Predictions\n",
      "Average loss at step 8: 0.408941\n",
      "\tTest MSE: 0.01035\n",
      "\tFinished Predictions\n",
      "Average loss at step 9: 0.531962\n",
      "\tTest MSE: 0.00974\n",
      "\tFinished Predictions\n",
      "Average loss at step 10: 0.500906\n",
      "\tDecreasing learning rate by 0.5\n",
      "\tTest MSE: 0.00924\n",
      "\tFinished Predictions\n",
      "Average loss at step 11: 0.313719\n",
      "\tTest MSE: 0.00889\n",
      "\tFinished Predictions\n",
      "Average loss at step 12: 0.275688\n",
      "\tTest MSE: 0.00857\n",
      "\tFinished Predictions\n",
      "Average loss at step 13: 0.338488\n",
      "\tDecreasing learning rate by 0.5\n",
      "\tTest MSE: 0.00835\n",
      "\tFinished Predictions\n",
      "Average loss at step 14: 0.322267\n",
      "\tTest MSE: 0.00826\n",
      "\tFinished Predictions\n",
      "Average loss at step 15: 0.279482\n",
      "\tTest MSE: 0.00814\n",
      "\tFinished Predictions\n",
      "Average loss at step 16: 0.274065\n",
      "\tDecreasing learning rate by 0.5\n",
      "\tTest MSE: 0.00798\n",
      "\tFinished Predictions\n",
      "Average loss at step 17: 0.364033\n",
      "\tTest MSE: 0.00791\n",
      "\tFinished Predictions\n",
      "Average loss at step 18: 0.380838\n",
      "\tTest MSE: 0.00787\n",
      "\tFinished Predictions\n",
      "Average loss at step 19: 0.484316\n",
      "\tDecreasing learning rate by 0.5\n",
      "\tTest MSE: 0.00788\n",
      "\tFinished Predictions\n",
      "Average loss at step 20: 0.383335\n",
      "\tTest MSE: 0.00790\n",
      "\tFinished Predictions\n",
      "Average loss at step 21: 0.301300\n",
      "\tTest MSE: 0.00792\n",
      "\tFinished Predictions\n",
      "Average loss at step 22: 0.337381\n",
      "\tDecreasing learning rate by 0.5\n",
      "\tTest MSE: 0.00795\n",
      "\tFinished Predictions\n",
      "Average loss at step 23: 0.355220\n",
      "\tTest MSE: 0.00798\n",
      "\tFinished Predictions\n",
      "Average loss at step 24: 0.284139\n",
      "\tTest MSE: 0.00800\n",
      "\tFinished Predictions\n",
      "Average loss at step 25: 0.270473\n",
      "\tDecreasing learning rate by 0.5\n",
      "\tTest MSE: 0.00801\n",
      "\tFinished Predictions\n",
      "Average loss at step 26: 0.356654\n",
      "\tTest MSE: 0.00801\n",
      "\tFinished Predictions\n",
      "Average loss at step 27: 0.376129\n",
      "\tTest MSE: 0.00801\n",
      "\tFinished Predictions\n",
      "Average loss at step 28: 0.440253\n",
      "\tDecreasing learning rate by 0.5\n",
      "\tTest MSE: 0.00801\n",
      "\tFinished Predictions\n",
      "Average loss at step 29: 0.426608\n",
      "\tTest MSE: 0.00802\n",
      "\tFinished Predictions\n",
      "Average loss at step 30: 0.304278\n",
      "\tTest MSE: 0.00802\n",
      "\tFinished Predictions\n"
     ]
    }
   ],
   "source": [
    "epochs = 30\n",
    "valid_summary = 1 # Interval you make test predictions\n",
    "\n",
    "n_predict_once = 50 # Number of steps you continously predict for\n",
    "\n",
    "train_seq_length = train_data.size # Full length of the training data\n",
    "\n",
    "train_mse_ot = [] # Accumulate Train losses\n",
    "test_mse_ot = [] # Accumulate Test loss\n",
    "predictions_over_time = [] # Accumulate predictions\n",
    "\n",
    "session = tf.InteractiveSession()\n",
    "\n",
    "tf.global_variables_initializer().run()\n",
    "\n",
    "# Used for decaying learning rate\n",
    "loss_nondecrease_count = 0\n",
    "loss_nondecrease_threshold = 2 # If the test error hasn't increased in this many steps, decrease learning rate\n",
    "\n",
    "print('Initialized')\n",
    "average_loss = 0\n",
    "\n",
    "# Define data generator\n",
    "data_gen = DataGeneratorSeq(train_data,batch_size,num_unrollings) \n",
    "\n",
    "x_axis_seq = []\n",
    "\n",
    "# Points you start our test predictions from\n",
    "test_points_seq = np.arange(1000,1470,1).tolist() \n",
    "\n",
    "for ep in range(epochs):       \n",
    "    \n",
    "    # ========================= Training =====================================\n",
    "    for step in range(train_seq_length//batch_size):\n",
    "        \n",
    "        u_data, u_labels = data_gen.unroll_batches()\n",
    "\n",
    "        feed_dict = {}\n",
    "        for ui,(dat,lbl) in enumerate(zip(u_data,u_labels)):            \n",
    "            feed_dict[train_inputs[ui]] = dat.reshape(-1,1)\n",
    "            feed_dict[train_outputs[ui]] = lbl.reshape(-1,1)\n",
    "        \n",
    "        feed_dict.update({tf_learning_rate: 0.0001, tf_min_learning_rate:0.000001})\n",
    "\n",
    "        _, l = session.run([optimizer, loss], feed_dict=feed_dict)\n",
    "\n",
    "        average_loss += l\n",
    "    \n",
    "    # ============================ Validation ==============================\n",
    "    if (ep+1) % valid_summary == 0:\n",
    "\n",
    "      average_loss = average_loss/(valid_summary*(train_seq_length//batch_size))\n",
    "      \n",
    "      # The average loss\n",
    "      if (ep+1)%valid_summary==0:\n",
    "        print('Average loss at step %d: %f' % (ep+1, average_loss))\n",
    "      \n",
    "      train_mse_ot.append(average_loss)\n",
    "            \n",
    "      average_loss = 0 # reset loss\n",
    "      \n",
    "      predictions_seq = []\n",
    "      \n",
    "      mse_test_loss_seq = []\n",
    "      \n",
    "      # ===================== Updating State and Making Predicitons ========================\n",
    "      for w_i in test_points_seq:\n",
    "        mse_test_loss = 0.0\n",
    "        our_predictions = []\n",
    "        \n",
    "        if (ep+1)-valid_summary==0:\n",
    "          # Only calculate x_axis values in the first validation epoch\n",
    "          x_axis=[]\n",
    "        \n",
    "        # Feed in the recent past behavior of stock prices\n",
    "        # to make predictions from that point onwards\n",
    "        for tr_i in range(w_i-num_unrollings+1,w_i-1):\n",
    "          current_price = all_mid_data[tr_i]\n",
    "          feed_dict[sample_inputs] = np.array(current_price).reshape(1,1)    \n",
    "          _ = session.run(sample_prediction,feed_dict=feed_dict)\n",
    "        \n",
    "        feed_dict = {}\n",
    "        \n",
    "        current_price = all_mid_data[w_i-1]\n",
    "        \n",
    "        feed_dict[sample_inputs] = np.array(current_price).reshape(1,1)\n",
    "        \n",
    "        # Make predictions for this many steps\n",
    "        # Each prediction uses previous prediciton as it's current input\n",
    "        for pred_i in range(n_predict_once):\n",
    "\n",
    "          pred = session.run(sample_prediction,feed_dict=feed_dict)\n",
    "        \n",
    "          our_predictions.append(np.asscalar(pred))\n",
    "        \n",
    "          feed_dict[sample_inputs] = np.asarray(pred).reshape(-1,1)\n",
    "\n",
    "          if (ep+1)-valid_summary==0:\n",
    "            # Only calculate x_axis values in the first validation epoch\n",
    "            x_axis.append(w_i+pred_i)\n",
    "\n",
    "          mse_test_loss += 0.5*(pred-all_mid_data[w_i+pred_i])**2\n",
    "        \n",
    "        session.run(reset_sample_states)\n",
    "        \n",
    "        predictions_seq.append(np.array(our_predictions))\n",
    "        \n",
    "        mse_test_loss /= n_predict_once\n",
    "        mse_test_loss_seq.append(mse_test_loss)\n",
    "        \n",
    "        if (ep+1)-valid_summary==0:\n",
    "          x_axis_seq.append(x_axis)\n",
    "        \n",
    "      current_test_mse = np.mean(mse_test_loss_seq)\n",
    "      \n",
    "      # Learning rate decay logic\n",
    "      if len(test_mse_ot)>0 and current_test_mse > min(test_mse_ot):\n",
    "          loss_nondecrease_count += 1\n",
    "      else:\n",
    "          loss_nondecrease_count = 0\n",
    "      \n",
    "      if loss_nondecrease_count > loss_nondecrease_threshold :\n",
    "            session.run(inc_gstep)\n",
    "            loss_nondecrease_count = 0\n",
    "            print('\\tDecreasing learning rate by 0.5')\n",
    "      \n",
    "      test_mse_ot.append(current_test_mse)\n",
    "      print('\\tTest MSE: %.5f'%np.mean(mse_test_loss_seq))\n",
    "      predictions_over_time.append(predictions_seq)\n",
    "      print('\\tFinished Predictions')"
   ]
  },
  {
   "cell_type": "markdown",
   "metadata": {},
   "source": [
    "## Visualizing the LSTM Predictions\n",
    "\n",
    "You can see how the MSE loss is going down with the amount of training. This is good sign that the model is learning something useful. To quantify your findings, you can compare the LSTM's MSE loss to the MSE loss you obtained when doing the standard averaging (0.004). You can see that the LSTM is doing better than the standard averaging. And you know that standard averaging (though not perfect) followed the true stock prices movements reasonably."
   ]
  },
  {
   "cell_type": "code",
   "execution_count": 101,
   "metadata": {},
   "outputs": [
    {
     "data": {
      "image/png": "[encoded data removed]",
      "text/plain": [
       "<Figure size 432x288 with 2 Axes>"
      ]
     },
     "metadata": {
      "needs_background": "light"
     },
     "output_type": "display_data"
    }
   ],
   "source": [
    "best_prediction_epoch = 28 # replace this with the epoch that you got the best results when running the plotting code\n",
    "\n",
    "fig, (ax1, ax2) = plt.subplots(2)\n",
    "fig.subplots_adjust(hspace=1)\n",
    "#plt.figure(figsize = (18,18))\n",
    "#plt.subplot(2,1,1)\n",
    "\n",
    "# Plotting how the predictions change over time\n",
    "# Plot older predictions with low alpha and newer predictions with high alpha\n",
    "start_alpha = 0.25\n",
    "alpha  = np.arange(start_alpha,1.1,(1.0-start_alpha)/len(predictions_over_time[::3]))\n",
    "for p_i,p in enumerate(predictions_over_time[::3]):\n",
    "    for xval,yval in zip(x_axis_seq,p):\n",
    "        ax1.plot(xval,yval,color='r',alpha=alpha[p_i])\n",
    "\n",
    "ax1.title.set_text('Evolution of Test Predictions Over Time')\n",
    "ax1.set_xlabel('Date')\n",
    "ax1.set_xlabel('Mid Price')\n",
    "#ax1.xlim(11000,12500)\n",
    "\n",
    "#plt.subplot(2,1,2)\n",
    "# Predicting the best test prediction you got\n",
    "ax2.plot(range(df.shape[0]),all_mid_data,color='b')\n",
    "for xval,yval in zip(x_axis_seq,predictions_over_time[best_prediction_epoch]):\n",
    "    ax2.plot(xval,yval,color='r')\n",
    "    \n",
    "ax2.title.set_text('Best Test Predictions Over Time')\n",
    "ax2.set_xlabel('Date')\n",
    "ax2.set_ylabel('Mid Price')\n",
    "#ax2.xlim(11000,12500)\n",
    "plt.show()"
   ]
  },
  {
   "cell_type": "code",
   "execution_count": 104,
   "metadata": {},
   "outputs": [
    {
     "data": {
      "text/plain": [
       "Text(0, 0.5, 'Mid Price')"
      ]
     },
     "execution_count": 104,
     "metadata": {},
     "output_type": "execute_result"
    },
    {
     "data": {
      "image/png": "[encoded data removed]",
      "text/plain": [
       "<Figure size 432x288 with 1 Axes>"
      ]
     },
     "metadata": {
      "needs_background": "light"
     },
     "output_type": "display_data"
    }
   ],
   "source": [
    "start_alpha = 0.25\n",
    "alpha  = np.arange(start_alpha,1.1,(1.0-start_alpha)/len(predictions_over_time[::3]))\n",
    "for p_i,p in enumerate(predictions_over_time[::3]):\n",
    "    for xval,yval in zip(x_axis_seq,p):\n",
    "        plt.plot(xval,yval,color='r',alpha=alpha[p_i])\n",
    "\n",
    "plt.title('Evolution of Test Predictions Over Time',fontsize=18)\n",
    "plt.xlabel('Date')\n",
    "plt.ylabel('Mid Price')\n",
    "# plt.xlim(11000,12500)\n",
    "\n",
    "# plt.subplot(2,1,2)"
   ]
  },
  {
   "cell_type": "code",
   "execution_count": 105,
   "metadata": {},
   "outputs": [
    {
     "data": {
      "image/png": "[encoded data removed]",
      "text/plain": [
       "<Figure size 432x288 with 1 Axes>"
      ]
     },
     "metadata": {
      "needs_background": "light"
     },
     "output_type": "display_data"
    }
   ],
   "source": [
    "# Predicting the best test prediction you got\n",
    "plt.plot(range(df.shape[0]),all_mid_data,color='b')\n",
    "for xval,yval in zip(x_axis_seq,predictions_over_time[best_prediction_epoch]):\n",
    "    plt.plot(xval,yval,color='r')\n",
    "    \n",
    "plt.title('Best Test Predictions Over Time',fontsize=18)\n",
    "plt.xlabel('Date',fontsize=18)\n",
    "plt.ylabel('Mid Price',fontsize=18)\n",
    "# plt.xlim(11000,12500)\n",
    "plt.show()"
   ]
  },
  {
   "cell_type": "markdown",
   "metadata": {},
   "source": [
    "Though not perfect, LSTM seems to be able to predict stock price behavior correctly most of the time. Note that you are making predictions roughly in the range of 0 and 1.0 (that is, not the true stock prices). This is okey, because you're predicting the stock price movement, not the prices themselves."
   ]
  },
  {
   "cell_type": "markdown",
   "metadata": {
    "collapsed": true
   },
   "source": [
    "## Final Remarks\n",
    "\n",
    "I'm hoping the readers will find this tutorial useful. I should mention that this was a rewarding experience for me. In this tutorial, I learnt how difficult it can be to device a model that is able to correctly predict stock price movements. You started with a motivation for why you need to model stock prices. This was followed by explnation and code for downloading data. Then you looked at two averaging techniques that allow us to make predictions one step into the future. You next saw that these methods are futile when you need to predict more than one step into the future. Thereafter you discussed how you can use LSTMs to make predictions many steps into the future. Finally you visualized the results and saw that our model (though not perfect) is quite good at correctly predicting stock price movements. \n",
    "\n",
    "Here, I'm stating serveral takeaways of this tutorial.\n",
    "\n",
    "1. Stock price/movement prediction is an extremely difficult task. Personally I don't think any of the stock prediction models out there shouldn't be taken for granted and blidly rely on them. However models might be able to predict stock price movement correctly most of the time, but not always.\n",
    "\n",
    "2. Do not be fooled by articles out there that shows predictions curves that perfectly overlaps the true stock prices. This can be replicated with a simple averaging technique and in practice it's useless. A more sensible thing to do is predicting the stock price movements.\n",
    "\n",
    "3. The LSTM model hyperparameters are extremely sensitive to the results you obtain. So a very good thing to do would be run some hyperparameter optimization technique (for example, Grid search / Random search) on the hyperparameters. Below I list some of the most critical hyperparameters\n",
    " * The learning rate of the optimizer\n",
    " * Number of layers and the number of hidden units in each layer\n",
    " * The optimizer. I found Adam to perform the best\n",
    " * Type of the model. You can try GRU/ Standard LSTM/ LSTM with Peepholes and evaluation performance difference\n",
    "\n",
    "4. In this tutorial you did something faulty (due to the small size of data)! That is you used the test loss to decay the learning rate. This indirectly leaks information about test set into the training procedure. A better way of handling this is to have a separate validation set (apart from the test set) and decay learning rate with respect to performance of the validation set.\n",
    "\n",
    "## Author Details\n",
    "* Author: Thushan Ganegedara\n",
    "* Email: thushv@gmail.com\n",
    "* Website: http://www.thushv.com/\n",
    "* LinkedIn: https://www.linkedin.com/in/thushanganegedara/\n",
    "\n",
    "Datacamp Tutorial: https://www.datacamp.com/community/tutorials/lstm-python-stock-market\n",
    "\n",
    "If you find this tutorial useful, **don't forget to upvote the post at Datacamp** :)\n",
    "\n",
    "## References\n",
    "\n",
    "I referred the following code to get an understanding about how to use LSTMs for stock predictions. But details can be vastly different from the implementation found in the reference.\n",
    "\n",
    "[1] https://github.com/jaungiers/LSTM-Neural-Network-for-Time-Series-Prediction"
   ]
  },
  {
   "cell_type": "code",
   "execution_count": null,
   "metadata": {},
   "outputs": [],
   "source": [
    "our_predictions"
   ]
  }
 ],
 "metadata": {
  "kernelspec": {
   "display_name": "Python 3",
   "language": "python",
   "name": "python3"
  },
  "language_info": {
   "codemirror_mode": {
    "name": "ipython",
    "version": 3
   },
   "file_extension": ".py",
   "mimetype": "text/x-python",
   "name": "python",
   "nbconvert_exporter": "python",
   "pygments_lexer": "ipython3",
   "version": "3.6.9"
  }
 },
 "nbformat": 4,
 "nbformat_minor": 2
}
