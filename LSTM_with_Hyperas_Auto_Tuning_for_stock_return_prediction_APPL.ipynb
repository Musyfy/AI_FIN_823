{
  "nbformat": 4,
  "nbformat_minor": 0,
  "metadata": {
    "kernelspec": {
      "name": "python3",
      "display_name": "Python 3"
    },
    "language_info": {
      "codemirror_mode": {
        "name": "ipython",
        "version": 3
      },
      "file_extension": ".py",
      "mimetype": "text/x-python",
      "name": "python",
      "nbconvert_exporter": "python",
      "pygments_lexer": "ipython3",
      "version": "3.7.1"
    },
    "colab": {
      "name": "LSTM with Hyperas - Auto Tuning for stock return prediction - APPL.ipynb",
      "provenance": [],
      "include_colab_link": true
    },
    "accelerator": "GPU"
  },
  "cells": [
    {
      "cell_type": "markdown",
      "metadata": {
        "id": "view-in-github",
        "colab_type": "text"
      },
      "source": [
        "<a href=\"https://colab.research.google.com/github/Musyfy/AI_FIN_823/blob/master/LSTM_with_Hyperas_Auto_Tuning_for_stock_return_prediction_APPL.ipynb\" target=\"_parent\"><img src=\"https://colab.research.google.com/assets/colab-badge.svg\" alt=\"Open In Colab\"/></a>"
      ]
    },
    {
      "cell_type": "code",
      "metadata": {
        "id": "LaVRAWDTJ7x5",
        "colab_type": "code",
        "colab": {}
      },
      "source": [
        "#Make sure you comment out pip install hyperas after running "
      ],
      "execution_count": 0,
      "outputs": []
    },
    {
      "cell_type": "code",
      "metadata": {
        "id": "wcra-dw0yh-H",
        "colab_type": "code",
        "colab": {}
      },
      "source": [
        "#pip install hyperas"
      ],
      "execution_count": 0,
      "outputs": []
    },
    {
      "cell_type": "code",
      "metadata": {
        "id": "u00R59d-yvHv",
        "colab_type": "code",
        "colab": {}
      },
      "source": [
        "from __future__ import print_function\n",
        "import numpy as np\n",
        "import pandas as pd\n",
        "import matplotlib.pyplot as plt\n",
        "from mpl_toolkits.mplot3d import Axes3D\n",
        "import seaborn as sns\n",
        "from tqdm import tqdm\n",
        "import dask.dataframe as dd\n",
        "import tensorflow as tf\n",
        "import sys\n",
        "\n",
        "import keras as ks\n",
        "from keras import backend as K\n",
        "from keras import metrics\n",
        "from keras.models import Sequential\n",
        "from keras.layers.core import Dense, Activation, Dropout, Flatten\n",
        "from keras.layers.recurrent import LSTM\n",
        "from keras.layers import Dense, Conv1D, MaxPool2D, Flatten, Dropout, CuDNNLSTM, CuDNNGRU, Conv2D, MaxPooling2D\n",
        "from keras.callbacks import EarlyStopping, TensorBoard, ModelCheckpoint\n",
        "from keras.optimizers import Adam, SGD, Nadam\n",
        "from keras.layers.normalization import BatchNormalization\n",
        "from time import time\n",
        "from keras.layers.advanced_activations import LeakyReLU, PReLU\n",
        "from keras.callbacks import EarlyStopping, ModelCheckpoint\n",
        "from tensorflow.python.client import device_lib\n",
        "from keras.utils import np_utils\n",
        "from sklearn.preprocessing import StandardScaler , MinMaxScaler, scale,Normalizer\n",
        "from sklearn.model_selection import train_test_split\n",
        "\n",
        "from hyperas import optim\n",
        "from hyperas.distributions import choice, uniform\n",
        "from hyperopt import Trials, STATUS_OK, tpe\n",
        "\n",
        "import pickle\n",
        "import os\n",
        "\n",
        "import pandas_datareader.data as pd_reader\n",
        "import warnings\n",
        "warnings.filterwarnings(\"ignore\")\n",
        "\n",
        "pd.set_option('display.max_rows', None)\n",
        "pd.set_option('display.max_columns', None)\n",
        "np.set_printoptions(threshold=sys.maxsize)"
      ],
      "execution_count": 0,
      "outputs": []
    },
    {
      "cell_type": "code",
      "metadata": {
        "id": "wYnpU-ai-DQa",
        "colab_type": "code",
        "colab": {
          "base_uri": "https://localhost:8080/",
          "height": 34
        },
        "outputId": "d5b46ac5-4129-418a-ae33-fa83fed09334"
      },
      "source": [
        "from platform import python_version\n",
        "print(python_version())"
      ],
      "execution_count": 50,
      "outputs": [
        {
          "output_type": "stream",
          "text": [
            "3.6.9\n"
          ],
          "name": "stdout"
        }
      ]
    },
    {
      "cell_type": "code",
      "metadata": {
        "id": "wsHP0KzBy7Kk",
        "colab_type": "code",
        "outputId": "af373432-d359-4878-f40f-9273eb8fa05c",
        "colab": {
          "base_uri": "https://localhost:8080/",
          "height": 51
        }
      },
      "source": [
        "from google.colab import drive\n",
        "drive.mount('/gdrive')\n",
        "%ls /gdrive"
      ],
      "execution_count": 51,
      "outputs": [
        {
          "output_type": "stream",
          "text": [
            "Drive already mounted at /gdrive; to attempt to forcibly remount, call drive.mount(\"/gdrive\", force_remount=True).\n",
            "\u001b[0m\u001b[01;34m'My Drive'\u001b[0m/\n"
          ],
          "name": "stdout"
        }
      ]
    },
    {
      "cell_type": "code",
      "metadata": {
        "id": "gx9aBM9hzH8m",
        "colab_type": "code",
        "outputId": "709b9340-ba37-4900-a12d-22ae9f2dcf2d",
        "colab": {
          "base_uri": "https://localhost:8080/",
          "height": 238
        }
      },
      "source": [
        "!ls '/gdrive/My Drive/Colab Notebooks'"
      ],
      "execution_count": 52,
      "outputs": [
        {
          "output_type": "stream",
          "text": [
            "'LSTM with Hyperas - Auto Tuning for stock price prediction - AT&T.ipynb'\n",
            "'LSTM with Hyperas - Auto Tuning for stock price prediction - BAC.ipynb'\n",
            "'LSTM with Hyperas - Auto Tuning for stock price prediction - BACV2.ipynb'\n",
            "'LSTM with Hyperas - Auto Tuning for stock price prediction-Copy1.ipynb'\n",
            "'LSTM with Hyperas - Auto Tuning for stock price prediction - DIS.ipynb'\n",
            "'LSTM with Hyperas - Auto Tuning for stock price prediction - MA.ipynb'\n",
            "'LSTM with Hyperas - Auto Tuning for stock price prediction - PG.ipynb'\n",
            "'LSTM with Hyperas - Auto Tuning for stock price prediction - UNH.ipynb'\n",
            "'LSTM with Hyperas - Auto Tuning for stock price prediction - Visa.ipynb'\n",
            "'LSTM with Hyperas - Auto Tuning for stock price prediction - XOM.ipynb'\n",
            "'LSTM with Hyperas - Auto Tuning for stock return prediction - APPL.ipynb'\n",
            " Untitled0.ipynb\n",
            " Untitled1.ipynb\n"
          ],
          "name": "stdout"
        }
      ]
    },
    {
      "cell_type": "code",
      "metadata": {
        "id": "xN7WLcr1yh-d",
        "colab_type": "code",
        "colab": {
          "base_uri": "https://localhost:8080/",
          "height": 235
        },
        "outputId": "9b172520-a79a-40a1-f561-fa6fd8af26c8"
      },
      "source": [
        "## add company ticker\n",
        "company = 'AAPL'\n",
        "data = pd_reader.DataReader(\n",
        "     '{}'.format(company),\n",
        "     'yahoo')\n",
        "data = data[['Adj Close','High','Open','Low','Volume']]\n",
        "data[\"return\"] = (data[\"Adj Close\"]-data[\"Adj Close\"].shift(1))/data[\"Adj Close\"].shift(1)\n",
        "data = data.dropna()\n",
        "factor_ratio = 0.7\n",
        "data_1 = data.iloc[:round(len(data)*factor_ratio)]\n",
        "data_2 = data[round(len(data)*factor_ratio):]\n",
        "data.head()"
      ],
      "execution_count": 53,
      "outputs": [
        {
          "output_type": "execute_result",
          "data": {
            "text/html": [
              "<div>\n",
              "<style scoped>\n",
              "    .dataframe tbody tr th:only-of-type {\n",
              "        vertical-align: middle;\n",
              "    }\n",
              "\n",
              "    .dataframe tbody tr th {\n",
              "        vertical-align: top;\n",
              "    }\n",
              "\n",
              "    .dataframe thead th {\n",
              "        text-align: right;\n",
              "    }\n",
              "</style>\n",
              "<table border=\"1\" class=\"dataframe\">\n",
              "  <thead>\n",
              "    <tr style=\"text-align: right;\">\n",
              "      <th></th>\n",
              "      <th>Adj Close</th>\n",
              "      <th>High</th>\n",
              "      <th>Open</th>\n",
              "      <th>Low</th>\n",
              "      <th>Volume</th>\n",
              "      <th>return</th>\n",
              "    </tr>\n",
              "    <tr>\n",
              "      <th>Date</th>\n",
              "      <th></th>\n",
              "      <th></th>\n",
              "      <th></th>\n",
              "      <th></th>\n",
              "      <th></th>\n",
              "      <th></th>\n",
              "    </tr>\n",
              "  </thead>\n",
              "  <tbody>\n",
              "    <tr>\n",
              "      <th>2010-01-05</th>\n",
              "      <td>26.647457</td>\n",
              "      <td>30.798571</td>\n",
              "      <td>30.657143</td>\n",
              "      <td>30.464285</td>\n",
              "      <td>150476200.0</td>\n",
              "      <td>0.001729</td>\n",
              "    </tr>\n",
              "    <tr>\n",
              "      <th>2010-01-06</th>\n",
              "      <td>26.223597</td>\n",
              "      <td>30.747143</td>\n",
              "      <td>30.625713</td>\n",
              "      <td>30.107143</td>\n",
              "      <td>138040000.0</td>\n",
              "      <td>-0.015906</td>\n",
              "    </tr>\n",
              "    <tr>\n",
              "      <th>2010-01-07</th>\n",
              "      <td>26.175119</td>\n",
              "      <td>30.285715</td>\n",
              "      <td>30.250000</td>\n",
              "      <td>29.864286</td>\n",
              "      <td>119282800.0</td>\n",
              "      <td>-0.001849</td>\n",
              "    </tr>\n",
              "    <tr>\n",
              "      <th>2010-01-08</th>\n",
              "      <td>26.349140</td>\n",
              "      <td>30.285715</td>\n",
              "      <td>30.042856</td>\n",
              "      <td>29.865715</td>\n",
              "      <td>111902700.0</td>\n",
              "      <td>0.006648</td>\n",
              "    </tr>\n",
              "    <tr>\n",
              "      <th>2010-01-11</th>\n",
              "      <td>26.116703</td>\n",
              "      <td>30.428572</td>\n",
              "      <td>30.400000</td>\n",
              "      <td>29.778572</td>\n",
              "      <td>115557400.0</td>\n",
              "      <td>-0.008821</td>\n",
              "    </tr>\n",
              "  </tbody>\n",
              "</table>\n",
              "</div>"
            ],
            "text/plain": [
              "            Adj Close       High       Open        Low       Volume    return\n",
              "Date                                                                         \n",
              "2010-01-05  26.647457  30.798571  30.657143  30.464285  150476200.0  0.001729\n",
              "2010-01-06  26.223597  30.747143  30.625713  30.107143  138040000.0 -0.015906\n",
              "2010-01-07  26.175119  30.285715  30.250000  29.864286  119282800.0 -0.001849\n",
              "2010-01-08  26.349140  30.285715  30.042856  29.865715  111902700.0  0.006648\n",
              "2010-01-11  26.116703  30.428572  30.400000  29.778572  115557400.0 -0.008821"
            ]
          },
          "metadata": {
            "tags": []
          },
          "execution_count": 53
        }
      ]
    },
    {
      "cell_type": "markdown",
      "metadata": {
        "id": "DA3QF3AFyh-g",
        "colab_type": "text"
      },
      "source": [
        "### Make sure to edit your stock ticker in def data()"
      ]
    },
    {
      "cell_type": "code",
      "metadata": {
        "id": "KnPMfRrTyh-h",
        "colab_type": "code",
        "colab": {}
      },
      "source": [
        "# ADD COMPANY TICKER\n",
        "def data():\n",
        "  company = 'AAPL'\n",
        "  data = pd_reader.DataReader(\n",
        "    '{}'.format(company),\n",
        "    'yahoo')\n",
        "  data = data[['Adj Close','High','Open','Low','Volume']]\n",
        "  data[\"return\"] = (data[\"Adj Close\"]-data[\"Adj Close\"].shift(1))/data[\"Adj Close\"].shift(1)\n",
        "  data = data.dropna()\n",
        "  factor_ratio = 0.7\n",
        "  data_1 = data.iloc[:round(len(data)*factor_ratio)]\n",
        "  data_2 = data[round(len(data)*factor_ratio):]\n",
        "\n",
        "  ###############################################\n",
        "  ##  Feature engineering construct the retrun ##\n",
        "  ###############################################\n",
        "  training_set = data_1.iloc[:,0:-1].values\n",
        "  y_set = data_1[\"return\"].values\n",
        "  y_set = y_set.reshape(-1,1)\n",
        "\n",
        "  sc = MinMaxScaler()\n",
        "  #training_set_scaled =training_set\n",
        "  #y_set_scaled=y_set\n",
        "  training_set_scaled = sc.fit_transform(training_set)\n",
        "  y_set_scaled = sc.fit_transform(y_set)\n",
        "\n",
        "  X_train = []\n",
        "  y_train = []\n",
        "\n",
        "  for i in range(252, len(training_set_scaled)):\n",
        "    X_train.append(training_set_scaled[i-252:i])\n",
        "    y_train.append(y_set_scaled[i][0])\n",
        "\n",
        "  X_train, y_train = np.array(X_train), np.array(y_train)\n",
        "  X_train = np.reshape(X_train, (X_train.shape[0], X_train.shape[1], 5))\n",
        "  \n",
        "  #test set\n",
        "  y_test = data_2['return'].values\n",
        "\n",
        "  dataset_total = data.iloc[:,0:-1]\n",
        "  inputs = dataset_total[len(dataset_total) - len(data_2) -252:].values\n",
        "  inputs = sc.fit_transform(inputs)\n",
        "\n",
        "  X_test = []\n",
        "  for i in range(252, len(inputs)):\n",
        "    X_test.append(inputs[i-252:i])\n",
        "  \n",
        "  X_test, y_test = np.array(X_test), np.array(y_test)\n",
        "  X_test = np.reshape(X_test, (X_test.shape[0], X_test.shape[1], 5))\n",
        "  \n",
        "  return X_train, y_train, X_test, y_test"
      ],
      "execution_count": 0,
      "outputs": []
    },
    {
      "cell_type": "code",
      "metadata": {
        "id": "AE0Zay3syh-i",
        "colab_type": "code",
        "colab": {
          "base_uri": "https://localhost:8080/",
          "height": 34
        },
        "outputId": "207a7b20-7523-4770-db7d-928303c29c4e"
      },
      "source": [
        "X_train, y_train, X_test, y_test = data()\n",
        "X_train.shape[1],5"
      ],
      "execution_count": 56,
      "outputs": [
        {
          "output_type": "execute_result",
          "data": {
            "text/plain": [
              "(252, 5)"
            ]
          },
          "metadata": {
            "tags": []
          },
          "execution_count": 56
        }
      ]
    },
    {
      "cell_type": "markdown",
      "metadata": {
        "id": "WCBEfWOIyh-k",
        "colab_type": "text"
      },
      "source": [
        "### Things to consider \n",
        "1. create_model function: Change epochs to a lower number in the beginning\n",
        "2. create_model function: Start with lower number of layers - 4 was the best for me \n",
        "3. create_model function: The number of hidden layers is still to be tuned manually \n",
        "4. create_model function: if you are to add more layers. Make sure that the last layer is always set to (return_sequence=False) \n",
        "5. create_model function: you can add more parameters to tune: such as activation function, add more optimizers, or change dropout rate to a range between 0 & 1. \n",
        "6. if __name__ == '__main__' function: Make sure notebook_name matches the name of your notebook, otherwise it doesn't run. not sure how it would work on pycharm (you can try to remove this parameter) \n",
        "7. if __name__ == '__main__' function: you can change the number of max_eval to a lower number if you want this to run faster. This parameter is similar to a random search, and  will give you different models based on the max_eval number chosen. 3 or 4 should be okay with what I have seen so far. \n",
        "\n",
        "**This will take time if you are running it on your local machine**"
      ]
    },
    {
      "cell_type": "code",
      "metadata": {
        "id": "pweGTr00yh-k",
        "colab_type": "code",
        "colab": {}
      },
      "source": [
        "def create_model(X_train, y_train, X_test, y_test): \n",
        "\n",
        "  \"\"\"\n",
        "  Model providing function:\n",
        "\n",
        "  Create Keras model with double curly brackets dropped-in as needed.\n",
        "  Return value has to be a valid python dictionary with two customary keys:\n",
        "      - loss: Specify a numeric evaluation metric to be minimized\n",
        "      - status: Just use STATUS_OK and see hyperopt documentation if not feasible\n",
        "  The last one is optional, though recommended, namely:\n",
        "      - model: specify the model just created so that we can later use it again.\n",
        "  \"\"\"\n",
        "\n",
        "  model = Sequential()\n",
        "  model.add(LSTM(units={{choice([100, 200, 300])}}, input_shape=(252,5), return_sequences= True))\n",
        "  model.add(Dropout(rate={{uniform(0.1, 0.9)}}))\n",
        "  \n",
        "  model.add(LSTM(units={{choice([100, 200, 300])}}, return_sequences= True))\n",
        "  model.add(Dropout(rate={{uniform(0.1, 0.9)}}))\n",
        "  \n",
        "  model.add(LSTM(units={{choice([100, 200, 300])}}, return_sequences= False))\n",
        "  model.add(Dropout(rate={{uniform(0.1, 0.9)}}))\n",
        "  \n",
        "  #model.add(LSTM(units={{choice([100, 200, 300])}}, return_sequences= False))\n",
        "  #model.add(Dropout(rate={{uniform(0.2, 0.5)}}))\n",
        "  \n",
        "  #model.add(LSTM(units={{choice([100, 200, 300])}}))\n",
        "  #model.add(Dropout(rate={{uniform(0.2, 0.5)}}))\n",
        "  \n",
        "  #model.add(Dense({{choice([50, 70, 100])}}))\n",
        "  model.add(Dense({{choice([25, 50])}}))\n",
        "  model.add(Dense(1))\n",
        "\n",
        "  model.compile(loss='mean_squared_error',\n",
        "                optimizer={{choice(['adam', 'sgd','rmsprop','adagrad'])}})\n",
        "\n",
        "  model.summary()\n",
        "\n",
        "  result = model.fit(X_train, y_train,\n",
        "            batch_size={{choice([100,50,80])}},\n",
        "            epochs=20, verbose=2)\n",
        "  #get the highest validation accuracy of the training epochs\n",
        "  validation_error = np.amin(result.history['loss']) \n",
        "  print('Best validation error of epoch:', validation_error)\n",
        "  return {'loss': -validation_error, 'status': STATUS_OK, 'model': model}"
      ],
      "execution_count": 0,
      "outputs": []
    },
    {
      "cell_type": "code",
      "metadata": {
        "id": "b8WEn-d5yh-m",
        "colab_type": "code",
        "outputId": "b3d71f80-d42c-42e5-80f3-0d92277815d4",
        "colab": {
          "base_uri": "https://localhost:8080/",
          "height": 1000
        }
      },
      "source": [
        "if __name__ == '__main__':\n",
        "    best_run, best_model = optim.minimize(model=create_model,\n",
        "                                    data=data,\n",
        "                                    algo=tpe.suggest,\n",
        "                                    max_evals=4,\n",
        "                                    trials=Trials(),\n",
        "                                    notebook_name= os.path.join('..','gdrive','My Drive','Colab Notebooks','LSTM with Hyperas - Auto Tuning for stock return prediction - APPL'))\n",
        "    X_train, Y_train, X_test, Y_test = data()\n",
        "    print(\"Evalutation of best performing model:\")\n",
        "    print(best_model)\n",
        "    print(\"Best performing model chosen hyper-parameters:\")\n",
        "    print(best_run)"
      ],
      "execution_count": 0,
      "outputs": [
        {
          "output_type": "stream",
          "text": [
            ">>> Imports:\n",
            "#coding=utf-8\n",
            "\n",
            "from __future__ import print_function\n",
            "\n",
            "try:\n",
            "    import numpy as np\n",
            "except:\n",
            "    pass\n",
            "\n",
            "try:\n",
            "    import pandas as pd\n",
            "except:\n",
            "    pass\n",
            "\n",
            "try:\n",
            "    import matplotlib.pyplot as plt\n",
            "except:\n",
            "    pass\n",
            "\n",
            "try:\n",
            "    from mpl_toolkits.mplot3d import Axes3D\n",
            "except:\n",
            "    pass\n",
            "\n",
            "try:\n",
            "    import seaborn as sns\n",
            "except:\n",
            "    pass\n",
            "\n",
            "try:\n",
            "    from tqdm import tqdm\n",
            "except:\n",
            "    pass\n",
            "\n",
            "try:\n",
            "    import dask.dataframe as dd\n",
            "except:\n",
            "    pass\n",
            "\n",
            "try:\n",
            "    import tensorflow as tf\n",
            "except:\n",
            "    pass\n",
            "\n",
            "try:\n",
            "    import sys\n",
            "except:\n",
            "    pass\n",
            "\n",
            "try:\n",
            "    import keras as ks\n",
            "except:\n",
            "    pass\n",
            "\n",
            "try:\n",
            "    from keras import backend as K\n",
            "except:\n",
            "    pass\n",
            "\n",
            "try:\n",
            "    from keras import metrics\n",
            "except:\n",
            "    pass\n",
            "\n",
            "try:\n",
            "    from keras.models import Sequential\n",
            "except:\n",
            "    pass\n",
            "\n",
            "try:\n",
            "    from keras.layers.core import Dense, Activation, Dropout, Flatten\n",
            "except:\n",
            "    pass\n",
            "\n",
            "try:\n",
            "    from keras.layers.recurrent import LSTM\n",
            "except:\n",
            "    pass\n",
            "\n",
            "try:\n",
            "    from keras.layers import Dense, Conv1D, MaxPool2D, Flatten, Dropout, CuDNNLSTM, CuDNNGRU, Conv2D, MaxPooling2D\n",
            "except:\n",
            "    pass\n",
            "\n",
            "try:\n",
            "    from keras.callbacks import EarlyStopping, TensorBoard, ModelCheckpoint\n",
            "except:\n",
            "    pass\n",
            "\n",
            "try:\n",
            "    from keras.optimizers import Adam, SGD, Nadam\n",
            "except:\n",
            "    pass\n",
            "\n",
            "try:\n",
            "    from keras.layers.normalization import BatchNormalization\n",
            "except:\n",
            "    pass\n",
            "\n",
            "try:\n",
            "    from time import time\n",
            "except:\n",
            "    pass\n",
            "\n",
            "try:\n",
            "    from keras.layers.advanced_activations import LeakyReLU, PReLU\n",
            "except:\n",
            "    pass\n",
            "\n",
            "try:\n",
            "    from keras.callbacks import EarlyStopping, ModelCheckpoint\n",
            "except:\n",
            "    pass\n",
            "\n",
            "try:\n",
            "    from tensorflow.python.client import device_lib\n",
            "except:\n",
            "    pass\n",
            "\n",
            "try:\n",
            "    from keras.utils import np_utils\n",
            "except:\n",
            "    pass\n",
            "\n",
            "try:\n",
            "    from sklearn.preprocessing import StandardScaler, MinMaxScaler, scale, Normalizer\n",
            "except:\n",
            "    pass\n",
            "\n",
            "try:\n",
            "    from sklearn.model_selection import train_test_split\n",
            "except:\n",
            "    pass\n",
            "\n",
            "try:\n",
            "    from hyperas import optim\n",
            "except:\n",
            "    pass\n",
            "\n",
            "try:\n",
            "    from hyperas.distributions import choice, uniform\n",
            "except:\n",
            "    pass\n",
            "\n",
            "try:\n",
            "    from hyperopt import Trials, STATUS_OK, tpe\n",
            "except:\n",
            "    pass\n",
            "\n",
            "try:\n",
            "    import pickle\n",
            "except:\n",
            "    pass\n",
            "\n",
            "try:\n",
            "    import os\n",
            "except:\n",
            "    pass\n",
            "\n",
            "try:\n",
            "    import pandas_datareader.data as pd_reader\n",
            "except:\n",
            "    pass\n",
            "\n",
            "try:\n",
            "    import warnings\n",
            "except:\n",
            "    pass\n",
            "\n",
            "try:\n",
            "    from platform import python_version\n",
            "except:\n",
            "    pass\n",
            "\n",
            "try:\n",
            "    from google.colab import drive\n",
            "except:\n",
            "    pass\n",
            "\n",
            "try:\n",
            "    import pickle\n",
            "except:\n",
            "    pass\n",
            "\n",
            "try:\n",
            "    from google.colab import files\n",
            "except:\n",
            "    pass\n",
            "\n",
            ">>> Hyperas search space:\n",
            "\n",
            "def get_space():\n",
            "    return {\n",
            "        'units': hp.choice('units', [100, 200, 300]),\n",
            "        'rate': hp.uniform('rate', 0.1, 0.9),\n",
            "        'units_1': hp.choice('units_1', [100, 200, 300]),\n",
            "        'rate_1': hp.uniform('rate_1', 0.1, 0.9),\n",
            "        'units_2': hp.choice('units_2', [100, 200, 300]),\n",
            "        'rate_2': hp.uniform('rate_2', 0.1, 0.9),\n",
            "        'units_3': hp.choice('units_3', [100, 200, 300]),\n",
            "        'rate_3': hp.uniform('rate_3', 0.2, 0.5),\n",
            "        'units_4': hp.choice('units_4', [100, 200, 300]),\n",
            "        'rate_4': hp.uniform('rate_4', 0.2, 0.5),\n",
            "        'Dense': hp.choice('Dense', [50, 70, 100]),\n",
            "        'Dense_1': hp.choice('Dense_1', [25, 50]),\n",
            "        'optimizer': hp.choice('optimizer', ['adam', 'sgd','rmsprop','adagrad']),\n",
            "        'batch_size': hp.choice('batch_size', [100,50,80]),\n",
            "    }\n",
            "\n",
            ">>> Data\n",
            "   1: \n",
            "   2: company = 'AAPL'\n",
            "   3: data = pd_reader.DataReader(\n",
            "   4:   '{}'.format(company),\n",
            "   5:   'yahoo')\n",
            "   6: data = data[['Adj Close','High','Open','Low','Volume']]\n",
            "   7: data[\"return\"] = (data[\"Adj Close\"]-data[\"Adj Close\"].shift(1))/data[\"Adj Close\"].shift(1)\n",
            "   8: data = data.dropna()\n",
            "   9: factor_ratio = 0.7\n",
            "  10: data_1 = data.iloc[:round(len(data)*factor_ratio)]\n",
            "  11: data_2 = data[round(len(data)*factor_ratio):]\n",
            "  12: \n",
            "  13: ###############################################\n",
            "  14: ##  Feature engineering construct the retrun ##\n",
            "  15: ###############################################\n",
            "  16: training_set = data_1.iloc[:,0:-1].values\n",
            "  17: y_set = data_1[\"return\"].values\n",
            "  18: y_set = y_set.reshape(-1,1)\n",
            "  19: \n",
            "  20: sc = MinMaxScaler()\n",
            "  21: #training_set_scaled =training_set\n",
            "  22: #y_set_scaled=y_set\n",
            "  23: training_set_scaled = sc.fit_transform(training_set)\n",
            "  24: y_set_scaled = sc.fit_transform(y_set)\n",
            "  25: \n",
            "  26: X_train = []\n",
            "  27: y_train = []\n",
            "  28: \n",
            "  29: for i in range(252, len(training_set_scaled)):\n",
            "  30:   X_train.append(training_set_scaled[i-252:i])\n",
            "  31:   y_train.append(y_set_scaled[i][0])\n",
            "  32: \n",
            "  33: X_train, y_train = np.array(X_train), np.array(y_train)\n",
            "  34: X_train = np.reshape(X_train, (X_train.shape[0], X_train.shape[1], 5))\n",
            "  35: \n",
            "  36: #test set\n",
            "  37: y_test = data_2['return'].values\n",
            "  38: \n",
            "  39: dataset_total = data.iloc[:,0:-1]\n",
            "  40: inputs = dataset_total[len(dataset_total) - len(data_2) -252:].values\n",
            "  41: inputs = sc.fit_transform(inputs)\n",
            "  42: \n",
            "  43: X_test = []\n",
            "  44: for i in range(252, len(inputs)):\n",
            "  45:   X_test.append(inputs[i-252:i])\n",
            "  46: \n",
            "  47: X_test, y_test = np.array(X_test), np.array(y_test)\n",
            "  48: X_test = np.reshape(X_test, (X_test.shape[0], X_test.shape[1], 5))\n",
            "  49: \n",
            "  50: \n",
            "  51: \n",
            "  52: \n",
            ">>> Resulting replaced keras model:\n",
            "\n",
            "   1: def keras_fmin_fnct(space):\n",
            "   2: \n",
            "   3: \n",
            "   4:   \"\"\"\n",
            "   5:   Model providing function:\n",
            "   6: \n",
            "   7:   Create Keras model with double curly brackets dropped-in as needed.\n",
            "   8:   Return value has to be a valid python dictionary with two customary keys:\n",
            "   9:       - loss: Specify a numeric evaluation metric to be minimized\n",
            "  10:       - status: Just use STATUS_OK and see hyperopt documentation if not feasible\n",
            "  11:   The last one is optional, though recommended, namely:\n",
            "  12:       - model: specify the model just created so that we can later use it again.\n",
            "  13:   \"\"\"\n",
            "  14: \n",
            "  15:   model = Sequential()\n",
            "  16:   model.add(LSTM(units=space['units'], input_shape=(252,5), return_sequences= True))\n",
            "  17:   model.add(Dropout(rate=space['rate']))\n",
            "  18:   \n",
            "  19:   model.add(LSTM(units=space['units_1'], return_sequences= True))\n",
            "  20:   model.add(Dropout(rate=space['rate_1']))\n",
            "  21:   \n",
            "  22:   model.add(LSTM(units=space['units_2'], return_sequences= False))\n",
            "  23:   model.add(Dropout(rate=space['rate_2']))\n",
            "  24:   \n",
            "  25:   #model.add(LSTM(units=space['units_3'], return_sequences= False))\n",
            "  26:   #model.add(Dropout(rate=space['rate_3']))\n",
            "  27:   \n",
            "  28:   #model.add(LSTM(units=space['units_4']))\n",
            "  29:   #model.add(Dropout(rate=space['rate_4']))\n",
            "  30:   \n",
            "  31:   #model.add(Dense(space['Dense']))\n",
            "  32:   model.add(Dense(space['Dense_1']))\n",
            "  33:   model.add(Dense(1))\n",
            "  34: \n",
            "  35:   model.compile(loss='mean_squared_error',\n",
            "  36:                 optimizer=space['optimizer'])\n",
            "  37: \n",
            "  38:   model.summary()\n",
            "  39: \n",
            "  40:   result = model.fit(X_train, y_train,\n",
            "  41:             batch_size=space['batch_size'],\n",
            "  42:             epochs=20, verbose=2)\n",
            "  43:   #get the highest validation accuracy of the training epochs\n",
            "  44:   validation_error = np.amin(result.history['loss']) \n",
            "  45:   print('Best validation error of epoch:', validation_error)\n",
            "  46:   return {'loss': -validation_error, 'status': STATUS_OK, 'model': model}\n",
            "  47: \n",
            "  0%|          | 0/4 [00:00<?, ?it/s, best loss: ?]WARNING:tensorflow:Large dropout rate: 0.758274 (>0.5). In TensorFlow 2.x, dropout() uses dropout rate instead of keep_prob. Please ensure that this is intended.\n",
            "Model: \"sequential_9\"\n",
            "_________________________________________________________________\n",
            "Layer (type)                 Output Shape              Param #   \n",
            "=================================================================\n",
            "lstm_25 (LSTM)               (None, 252, 200)          164800    \n",
            "_________________________________________________________________\n",
            "dropout_25 (Dropout)         (None, 252, 200)          0         \n",
            "_________________________________________________________________\n",
            "lstm_26 (LSTM)               (None, 252, 300)          601200    \n",
            "_________________________________________________________________\n",
            "dropout_26 (Dropout)         (None, 252, 300)          0         \n",
            "_________________________________________________________________\n",
            "lstm_27 (LSTM)               (None, 100)               160400    \n",
            "_________________________________________________________________\n",
            "dropout_27 (Dropout)         (None, 100)               0         \n",
            "_________________________________________________________________\n",
            "dense_20 (Dense)             (None, 50)                5050      \n",
            "_________________________________________________________________\n",
            "dense_21 (Dense)             (None, 1)                 51        \n",
            "=================================================================\n",
            "Total params: 931,501\n",
            "Trainable params: 931,501\n",
            "Non-trainable params: 0\n",
            "_________________________________________________________________\n",
            "Epoch 1/20\n",
            "  0%|          | 0/4 [00:03<?, ?it/s, best loss: ?]"
          ],
          "name": "stdout"
        }
      ]
    },
    {
      "cell_type": "code",
      "metadata": {
        "id": "Eyo4NHdqyh-n",
        "colab_type": "code",
        "outputId": "be0989c9-b691-45c0-c997-92629f5f1b8d",
        "colab": {
          "base_uri": "https://localhost:8080/",
          "height": 255
        }
      },
      "source": [
        "best_run"
      ],
      "execution_count": 41,
      "outputs": [
        {
          "output_type": "execute_result",
          "data": {
            "text/plain": [
              "{'Dense': 2,\n",
              " 'Dense_1': 1,\n",
              " 'batch_size': 2,\n",
              " 'optimizer': 3,\n",
              " 'rate': 0.32530644484250154,\n",
              " 'rate_1': 0.44427167483884517,\n",
              " 'rate_2': 0.438114720866043,\n",
              " 'rate_3': 0.4509284217745925,\n",
              " 'rate_4': 0.4859821741016107,\n",
              " 'units': 2,\n",
              " 'units_1': 1,\n",
              " 'units_2': 2,\n",
              " 'units_3': 2,\n",
              " 'units_4': 0}"
            ]
          },
          "metadata": {
            "tags": []
          },
          "execution_count": 41
        }
      ]
    },
    {
      "cell_type": "code",
      "metadata": {
        "scrolled": true,
        "id": "7ZzZ2-PHyh-p",
        "colab_type": "code",
        "outputId": "8edac903-85a3-40cc-cee7-d72974b296b6",
        "colab": {
          "base_uri": "https://localhost:8080/",
          "height": 425
        }
      },
      "source": [
        "best_model.summary()"
      ],
      "execution_count": 42,
      "outputs": [
        {
          "output_type": "stream",
          "text": [
            "Model: \"sequential_8\"\n",
            "_________________________________________________________________\n",
            "Layer (type)                 Output Shape              Param #   \n",
            "=================================================================\n",
            "lstm_22 (LSTM)               (None, 252, 300)          367200    \n",
            "_________________________________________________________________\n",
            "dropout_22 (Dropout)         (None, 252, 300)          0         \n",
            "_________________________________________________________________\n",
            "lstm_23 (LSTM)               (None, 252, 200)          400800    \n",
            "_________________________________________________________________\n",
            "dropout_23 (Dropout)         (None, 252, 200)          0         \n",
            "_________________________________________________________________\n",
            "lstm_24 (LSTM)               (None, 300)               601200    \n",
            "_________________________________________________________________\n",
            "dropout_24 (Dropout)         (None, 300)               0         \n",
            "_________________________________________________________________\n",
            "dense_18 (Dense)             (None, 50)                15050     \n",
            "_________________________________________________________________\n",
            "dense_19 (Dense)             (None, 1)                 51        \n",
            "=================================================================\n",
            "Total params: 1,384,301\n",
            "Trainable params: 1,384,301\n",
            "Non-trainable params: 0\n",
            "_________________________________________________________________\n"
          ],
          "name": "stdout"
        }
      ]
    },
    {
      "cell_type": "markdown",
      "metadata": {
        "id": "zLJZi8Hjyh-q",
        "colab_type": "text"
      },
      "source": [
        "## Make sure to edit your stock ticker again in the next cell"
      ]
    },
    {
      "cell_type": "code",
      "metadata": {
        "id": "Oa_aX3gvyh-r",
        "colab_type": "code",
        "colab": {}
      },
      "source": [
        "##maka sure to change the stock ticker here \n",
        "## add company ticker\n",
        "company = 'AAPL'\n",
        "data = pd_reader.DataReader(\n",
        "     '{}'.format(company),\n",
        "     'yahoo')\n",
        "data = data[['Adj Close','High','Open','Low','Volume']]\n",
        "data[\"return\"] = (data[\"Adj Close\"]-data[\"Adj Close\"].shift(1))/data[\"Adj Close\"].shift(1)\n",
        "data = data.dropna()\n",
        "factor_ratio = 0.7\n",
        "data_1 = data.iloc[:round(len(data)*factor_ratio)]\n",
        "data_2 = data[round(len(data)*factor_ratio):]\n",
        "\n",
        "\n",
        "training_set = data_1.iloc[:,0:-1].values\n",
        "y_set = data_1[\"return\"].values\n",
        "y_set = y_set.reshape(-1,1)\n",
        "sc = MinMaxScaler()\n",
        "training_set_scaled = sc.fit_transform(training_set)\n",
        "y_set_scaled = sc.fit_transform(y_set)\n",
        "training_set_scaled = sc.fit_transform(training_set)"
      ],
      "execution_count": 0,
      "outputs": []
    },
    {
      "cell_type": "code",
      "metadata": {
        "id": "alb_Bonxyh-r",
        "colab_type": "code",
        "colab": {}
      },
      "source": [
        "real_stock_price = data_2['return'].values\n",
        "\n",
        "dataset_total = data.iloc[:,0:-1]\n",
        "inputs = dataset_total[len(dataset_total) - len(data_2) -252:].values\n",
        "inputs = sc.fit_transform(inputs)\n",
        "\n",
        "X_test = []\n",
        "for i in range(252, len(inputs)):\n",
        "    X_test.append(inputs[i-252:i])"
      ],
      "execution_count": 0,
      "outputs": []
    },
    {
      "cell_type": "code",
      "metadata": {
        "id": "414zI9ISyh-s",
        "colab_type": "code",
        "colab": {
          "base_uri": "https://localhost:8080/",
          "height": 34
        },
        "outputId": "b4e2bb3f-274b-4be5-b5dc-d63f262b212a"
      },
      "source": [
        "X_test = np.array(X_test)\n",
        "X_test = np.reshape(X_test, (X_test.shape[0], X_test.shape[1], 5))\n",
        "X_test.shape"
      ],
      "execution_count": 45,
      "outputs": [
        {
          "output_type": "execute_result",
          "data": {
            "text/plain": [
              "(758, 252, 5)"
            ]
          },
          "metadata": {
            "tags": []
          },
          "execution_count": 45
        }
      ]
    },
    {
      "cell_type": "code",
      "metadata": {
        "scrolled": true,
        "id": "VaNcjScYyh-v",
        "colab_type": "code",
        "outputId": "044a3382-1369-4d4e-c502-c1a640f3c451",
        "colab": {
          "base_uri": "https://localhost:8080/",
          "height": 34
        }
      },
      "source": [
        "predicted_stock_price= best_model.predict(X_test)\n",
        "y_set_scaled = sc.fit_transform(y_set)\n",
        "predicted_stock_price = sc.inverse_transform(predicted_stock_price)\n",
        "predicted_stock = pd.DataFrame(predicted_stock_price,columns=['perdict return'])\n",
        "real_stock = pd.DataFrame(real_stock_price,columns=['real return'])\n",
        "data_test = data[round(len(data)*factor_ratio):]\n",
        "data_test.reset_index(inplace=True)\n",
        "data_test = data_test[['Date']]\n",
        "\n",
        "final = pd.merge(real_stock, predicted_stock, left_index=True, right_index=True)\n",
        "final1 = pd.merge(data_test, final, left_index=True, right_index=True)\n",
        "final1.to_csv(\"{}.csv\".format(company))\n",
        "final['direction'] = final[\"real return\"]*final[\"perdict return\"]\n",
        "\n",
        "def iden(x):\n",
        "    if x >0:\n",
        "        return 1\n",
        "    else:\n",
        "        return 0\n",
        "\n",
        "final[\"hit\"] = final[\"direction\"].apply(lambda x:iden(x))\n",
        "print('hit ratio:{}'.format(final[\"hit\"].sum()/final[\"hit\"].count()))"
      ],
      "execution_count": 46,
      "outputs": [
        {
          "output_type": "stream",
          "text": [
            "hit ratio:0.449868073878628\n"
          ],
          "name": "stdout"
        }
      ]
    },
    {
      "cell_type": "code",
      "metadata": {
        "id": "vzElYx-nyh-x",
        "colab_type": "code",
        "outputId": "26236dfc-901c-4b6b-c050-b679e0d711dc",
        "colab": {
          "base_uri": "https://localhost:8080/",
          "height": 295
        }
      },
      "source": [
        "plt.plot(real_stock_price, color = 'black', label = '{} Stock Price'.format(company))\n",
        "plt.plot(predicted_stock_price, color = 'green', label = 'Predicted {} Stock return'.format(company))\n",
        "plt.title('{} Stock return Prediction'.format(company))\n",
        "plt.xlabel('Time')\n",
        "plt.ylabel('{} Stock return'.format(company))\n",
        "plt.legend()\n",
        "plt.show()"
      ],
      "execution_count": 30,
      "outputs": [
        {
          "output_type": "display_data",
          "data": {
            "image/png": "[encoded data removed]",
            "text/plain": [
              "<Figure size 432x288 with 1 Axes>"
            ]
          },
          "metadata": {
            "tags": []
          }
        }
      ]
    },
    {
      "cell_type": "code",
      "metadata": {
        "id": "dEO8DPvoGn2q",
        "colab_type": "code",
        "colab": {}
      },
      "source": [
        "import pickle\n",
        "with open('APPL_model.pickle','wb') as f:\n",
        "    pickle.dump(best_model,f)\n",
        "\n",
        "with open('APPL_model.pickle','rb') as f:\n",
        "    model = pickle.load(f)"
      ],
      "execution_count": 0,
      "outputs": []
    },
    {
      "cell_type": "code",
      "metadata": {
        "id": "-lbroo87JvWw",
        "colab_type": "code",
        "colab": {}
      },
      "source": [
        "from google.colab import files\n",
        "files.download('APPL_model.pickle') "
      ],
      "execution_count": 0,
      "outputs": []
    }
  ]
}