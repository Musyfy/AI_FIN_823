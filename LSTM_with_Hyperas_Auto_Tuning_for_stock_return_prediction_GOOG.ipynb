{
  "nbformat": 4,
  "nbformat_minor": 0,
  "metadata": {
    "kernelspec": {
      "name": "python3",
      "display_name": "Python 3"
    },
    "language_info": {
      "codemirror_mode": {
        "name": "ipython",
        "version": 3
      },
      "file_extension": ".py",
      "mimetype": "text/x-python",
      "name": "python",
      "nbconvert_exporter": "python",
      "pygments_lexer": "ipython3",
      "version": "3.7.1"
    },
    "colab": {
      "name": "LSTM with Hyperas - Auto Tuning for stock return prediction - GOOG.ipynb",
      "provenance": [],
      "collapsed_sections": [],
      "include_colab_link": true
    },
    "accelerator": "GPU"
  },
  "cells": [
    {
      "cell_type": "markdown",
      "metadata": {
        "id": "view-in-github",
        "colab_type": "text"
      },
      "source": [
        "<a href=\"https://colab.research.google.com/github/Musyfy/AI_FIN_823/blob/master/LSTM_with_Hyperas_Auto_Tuning_for_stock_return_prediction_GOOG.ipynb\" target=\"_parent\"><img src=\"https://colab.research.google.com/assets/colab-badge.svg\" alt=\"Open In Colab\"/></a>"
      ]
    },
    {
      "cell_type": "code",
      "metadata": {
        "id": "LaVRAWDTJ7x5",
        "colab_type": "code",
        "colab": {}
      },
      "source": [
        "#Make sure you comment out pip install hyperas after running "
      ],
      "execution_count": 0,
      "outputs": []
    },
    {
      "cell_type": "code",
      "metadata": {
        "id": "5lfWlp_nkXFH",
        "colab_type": "code",
        "outputId": "3889485c-433d-47a8-f87a-fa3add0b1b9c",
        "colab": {
          "base_uri": "https://localhost:8080/",
          "height": 394
        }
      },
      "source": [
        "#pip install tensorflow==1.15rc0"
      ],
      "execution_count": 2,
      "outputs": [
        {
          "output_type": "stream",
          "text": [
            "Requirement already satisfied: tensorflow==1.15rc0 in /usr/local/lib/python3.6/dist-packages (1.15.0rc0)\n",
            "Requirement already satisfied: tf-estimator-nightly<1.14.0.dev2019090402,>=1.14.0.dev2019090401 in /usr/local/lib/python3.6/dist-packages (from tensorflow==1.15rc0) (1.14.0.dev2019090401)\n",
            "Requirement already satisfied: wrapt>=1.11.1 in /usr/local/lib/python3.6/dist-packages (from tensorflow==1.15rc0) (1.11.2)\n",
            "Requirement already satisfied: wheel>=0.26 in /usr/local/lib/python3.6/dist-packages (from tensorflow==1.15rc0) (0.33.6)\n",
            "Requirement already satisfied: termcolor>=1.1.0 in /usr/local/lib/python3.6/dist-packages (from tensorflow==1.15rc0) (1.1.0)\n",
            "Requirement already satisfied: absl-py>=0.7.0 in /usr/local/lib/python3.6/dist-packages (from tensorflow==1.15rc0) (0.9.0)\n",
            "Requirement already satisfied: tb-nightly<1.15.0a20190822,>=1.15.0a20190821 in /usr/local/lib/python3.6/dist-packages (from tensorflow==1.15rc0) (1.15.0a20190821)\n",
            "Requirement already satisfied: google-pasta>=0.1.6 in /usr/local/lib/python3.6/dist-packages (from tensorflow==1.15rc0) (0.1.8)\n",
            "Requirement already satisfied: keras-applications>=1.0.8 in /usr/local/lib/python3.6/dist-packages (from tensorflow==1.15rc0) (1.0.8)\n",
            "Requirement already satisfied: numpy<2.0,>=1.16.0 in /usr/local/lib/python3.6/dist-packages (from tensorflow==1.15rc0) (1.17.5)\n",
            "Requirement already satisfied: six>=1.10.0 in /usr/local/lib/python3.6/dist-packages (from tensorflow==1.15rc0) (1.12.0)\n",
            "Requirement already satisfied: gast>=0.2.0 in /usr/local/lib/python3.6/dist-packages (from tensorflow==1.15rc0) (0.2.2)\n",
            "Requirement already satisfied: protobuf>=3.6.1 in /usr/local/lib/python3.6/dist-packages (from tensorflow==1.15rc0) (3.10.0)\n",
            "Requirement already satisfied: astor>=0.6.0 in /usr/local/lib/python3.6/dist-packages (from tensorflow==1.15rc0) (0.8.1)\n",
            "Requirement already satisfied: grpcio>=1.8.6 in /usr/local/lib/python3.6/dist-packages (from tensorflow==1.15rc0) (1.15.0)\n",
            "Requirement already satisfied: opt-einsum>=2.3.2 in /usr/local/lib/python3.6/dist-packages (from tensorflow==1.15rc0) (3.1.0)\n",
            "Requirement already satisfied: keras-preprocessing>=1.0.5 in /usr/local/lib/python3.6/dist-packages (from tensorflow==1.15rc0) (1.1.0)\n",
            "Requirement already satisfied: werkzeug>=0.11.15 in /usr/local/lib/python3.6/dist-packages (from tb-nightly<1.15.0a20190822,>=1.15.0a20190821->tensorflow==1.15rc0) (0.16.0)\n",
            "Requirement already satisfied: setuptools>=41.0.0 in /usr/local/lib/python3.6/dist-packages (from tb-nightly<1.15.0a20190822,>=1.15.0a20190821->tensorflow==1.15rc0) (42.0.2)\n",
            "Requirement already satisfied: markdown>=2.6.8 in /usr/local/lib/python3.6/dist-packages (from tb-nightly<1.15.0a20190822,>=1.15.0a20190821->tensorflow==1.15rc0) (3.1.1)\n",
            "Requirement already satisfied: h5py in /usr/local/lib/python3.6/dist-packages (from keras-applications>=1.0.8->tensorflow==1.15rc0) (2.8.0)\n"
          ],
          "name": "stdout"
        }
      ]
    },
    {
      "cell_type": "code",
      "metadata": {
        "id": "wcra-dw0yh-H",
        "colab_type": "code",
        "colab": {
          "base_uri": "https://localhost:8080/",
          "height": 955
        },
        "outputId": "bd4e9dce-c352-4d03-b633-8d4e3628defa"
      },
      "source": [
        "#pip install hyperas"
      ],
      "execution_count": 3,
      "outputs": [
        {
          "output_type": "stream",
          "text": [
            "Collecting hyperas\n",
            "  Downloading https://files.pythonhosted.org/packages/04/34/87ad6ffb42df9c1fa9c4c906f65813d42ad70d68c66af4ffff048c228cd4/hyperas-0.4.1-py3-none-any.whl\n",
            "Requirement already satisfied: nbconvert in /usr/local/lib/python3.6/dist-packages (from hyperas) (5.6.1)\n",
            "Requirement already satisfied: jupyter in /usr/local/lib/python3.6/dist-packages (from hyperas) (1.0.0)\n",
            "Requirement already satisfied: nbformat in /usr/local/lib/python3.6/dist-packages (from hyperas) (5.0.3)\n",
            "Requirement already satisfied: entrypoints in /usr/local/lib/python3.6/dist-packages (from hyperas) (0.3)\n",
            "Requirement already satisfied: keras in /usr/local/lib/python3.6/dist-packages (from hyperas) (2.2.5)\n",
            "Requirement already satisfied: hyperopt in /usr/local/lib/python3.6/dist-packages (from hyperas) (0.1.2)\n",
            "Requirement already satisfied: jinja2>=2.4 in /usr/local/lib/python3.6/dist-packages (from nbconvert->hyperas) (2.10.3)\n",
            "Requirement already satisfied: mistune<2,>=0.8.1 in /usr/local/lib/python3.6/dist-packages (from nbconvert->hyperas) (0.8.4)\n",
            "Requirement already satisfied: jupyter-core in /usr/local/lib/python3.6/dist-packages (from nbconvert->hyperas) (4.6.1)\n",
            "Requirement already satisfied: testpath in /usr/local/lib/python3.6/dist-packages (from nbconvert->hyperas) (0.4.4)\n",
            "Requirement already satisfied: pygments in /usr/local/lib/python3.6/dist-packages (from nbconvert->hyperas) (2.1.3)\n",
            "Requirement already satisfied: defusedxml in /usr/local/lib/python3.6/dist-packages (from nbconvert->hyperas) (0.6.0)\n",
            "Requirement already satisfied: traitlets>=4.2 in /usr/local/lib/python3.6/dist-packages (from nbconvert->hyperas) (4.3.3)\n",
            "Requirement already satisfied: bleach in /usr/local/lib/python3.6/dist-packages (from nbconvert->hyperas) (3.1.0)\n",
            "Requirement already satisfied: pandocfilters>=1.4.1 in /usr/local/lib/python3.6/dist-packages (from nbconvert->hyperas) (1.4.2)\n",
            "Requirement already satisfied: ipykernel in /usr/local/lib/python3.6/dist-packages (from jupyter->hyperas) (4.6.1)\n",
            "Requirement already satisfied: qtconsole in /usr/local/lib/python3.6/dist-packages (from jupyter->hyperas) (4.6.0)\n",
            "Requirement already satisfied: ipywidgets in /usr/local/lib/python3.6/dist-packages (from jupyter->hyperas) (7.5.1)\n",
            "Requirement already satisfied: jupyter-console in /usr/local/lib/python3.6/dist-packages (from jupyter->hyperas) (5.2.0)\n",
            "Requirement already satisfied: notebook in /usr/local/lib/python3.6/dist-packages (from jupyter->hyperas) (5.2.2)\n",
            "Requirement already satisfied: jsonschema!=2.5.0,>=2.4 in /usr/local/lib/python3.6/dist-packages (from nbformat->hyperas) (2.6.0)\n",
            "Requirement already satisfied: ipython-genutils in /usr/local/lib/python3.6/dist-packages (from nbformat->hyperas) (0.2.0)\n",
            "Requirement already satisfied: six>=1.9.0 in /usr/local/lib/python3.6/dist-packages (from keras->hyperas) (1.12.0)\n",
            "Requirement already satisfied: scipy>=0.14 in /usr/local/lib/python3.6/dist-packages (from keras->hyperas) (1.4.1)\n",
            "Requirement already satisfied: keras-applications>=1.0.8 in /usr/local/lib/python3.6/dist-packages (from keras->hyperas) (1.0.8)\n",
            "Requirement already satisfied: h5py in /usr/local/lib/python3.6/dist-packages (from keras->hyperas) (2.8.0)\n",
            "Requirement already satisfied: keras-preprocessing>=1.1.0 in /usr/local/lib/python3.6/dist-packages (from keras->hyperas) (1.1.0)\n",
            "Requirement already satisfied: numpy>=1.9.1 in /usr/local/lib/python3.6/dist-packages (from keras->hyperas) (1.17.5)\n",
            "Requirement already satisfied: pyyaml in /usr/local/lib/python3.6/dist-packages (from keras->hyperas) (3.13)\n",
            "Requirement already satisfied: pymongo in /usr/local/lib/python3.6/dist-packages (from hyperopt->hyperas) (3.10.0)\n",
            "Requirement already satisfied: tqdm in /usr/local/lib/python3.6/dist-packages (from hyperopt->hyperas) (4.28.1)\n",
            "Requirement already satisfied: networkx in /usr/local/lib/python3.6/dist-packages (from hyperopt->hyperas) (2.4)\n",
            "Requirement already satisfied: future in /usr/local/lib/python3.6/dist-packages (from hyperopt->hyperas) (0.16.0)\n",
            "Requirement already satisfied: MarkupSafe>=0.23 in /usr/local/lib/python3.6/dist-packages (from jinja2>=2.4->nbconvert->hyperas) (1.1.1)\n",
            "Requirement already satisfied: decorator in /usr/local/lib/python3.6/dist-packages (from traitlets>=4.2->nbconvert->hyperas) (4.4.1)\n",
            "Requirement already satisfied: webencodings in /usr/local/lib/python3.6/dist-packages (from bleach->nbconvert->hyperas) (0.5.1)\n",
            "Requirement already satisfied: tornado>=4.0 in /usr/local/lib/python3.6/dist-packages (from ipykernel->jupyter->hyperas) (4.5.3)\n",
            "Requirement already satisfied: jupyter-client in /usr/local/lib/python3.6/dist-packages (from ipykernel->jupyter->hyperas) (5.3.4)\n",
            "Requirement already satisfied: ipython>=4.0.0 in /usr/local/lib/python3.6/dist-packages (from ipykernel->jupyter->hyperas) (5.5.0)\n",
            "Requirement already satisfied: widgetsnbextension~=3.5.0 in /usr/local/lib/python3.6/dist-packages (from ipywidgets->jupyter->hyperas) (3.5.1)\n",
            "Requirement already satisfied: prompt-toolkit<2.0.0,>=1.0.0 in /usr/local/lib/python3.6/dist-packages (from jupyter-console->jupyter->hyperas) (1.0.18)\n",
            "Requirement already satisfied: terminado>=0.3.3; sys_platform != \"win32\" in /usr/local/lib/python3.6/dist-packages (from notebook->jupyter->hyperas) (0.8.3)\n",
            "Requirement already satisfied: pyzmq>=13 in /usr/local/lib/python3.6/dist-packages (from jupyter-client->ipykernel->jupyter->hyperas) (17.0.0)\n",
            "Requirement already satisfied: python-dateutil>=2.1 in /usr/local/lib/python3.6/dist-packages (from jupyter-client->ipykernel->jupyter->hyperas) (2.6.1)\n",
            "Requirement already satisfied: pexpect; sys_platform != \"win32\" in /usr/local/lib/python3.6/dist-packages (from ipython>=4.0.0->ipykernel->jupyter->hyperas) (4.7.0)\n",
            "Requirement already satisfied: simplegeneric>0.8 in /usr/local/lib/python3.6/dist-packages (from ipython>=4.0.0->ipykernel->jupyter->hyperas) (0.8.1)\n",
            "Requirement already satisfied: setuptools>=18.5 in /usr/local/lib/python3.6/dist-packages (from ipython>=4.0.0->ipykernel->jupyter->hyperas) (42.0.2)\n",
            "Requirement already satisfied: pickleshare in /usr/local/lib/python3.6/dist-packages (from ipython>=4.0.0->ipykernel->jupyter->hyperas) (0.7.5)\n",
            "Requirement already satisfied: wcwidth in /usr/local/lib/python3.6/dist-packages (from prompt-toolkit<2.0.0,>=1.0.0->jupyter-console->jupyter->hyperas) (0.1.8)\n",
            "Requirement already satisfied: ptyprocess; os_name != \"nt\" in /usr/local/lib/python3.6/dist-packages (from terminado>=0.3.3; sys_platform != \"win32\"->notebook->jupyter->hyperas) (0.6.0)\n",
            "Installing collected packages: hyperas\n",
            "Successfully installed hyperas-0.4.1\n"
          ],
          "name": "stdout"
        }
      ]
    },
    {
      "cell_type": "code",
      "metadata": {
        "id": "u00R59d-yvHv",
        "colab_type": "code",
        "colab": {
          "base_uri": "https://localhost:8080/",
          "height": 80
        },
        "outputId": "12b20bea-6705-4f15-9ae5-7cb4917e0105"
      },
      "source": [
        "from __future__ import print_function\n",
        "import numpy as np\n",
        "import pandas as pd\n",
        "import matplotlib.pyplot as plt\n",
        "from mpl_toolkits.mplot3d import Axes3D\n",
        "import seaborn as sns\n",
        "from tqdm import tqdm\n",
        "import dask.dataframe as dd\n",
        "import tensorflow.compat.v2 as tf\n",
        "import sys\n",
        "\n",
        "import keras as ks\n",
        "from keras import backend as K\n",
        "from keras import metrics\n",
        "from keras.models import Sequential\n",
        "from keras.layers.core import Dense, Activation, Dropout, Flatten\n",
        "from keras.layers.recurrent import LSTM\n",
        "from keras.layers import Dense, Conv1D, MaxPool2D, Flatten, Dropout, CuDNNLSTM, CuDNNGRU, Conv2D, MaxPooling2D\n",
        "from keras.callbacks import EarlyStopping, TensorBoard, ModelCheckpoint\n",
        "from keras.optimizers import Adam, SGD, Nadam\n",
        "from keras.layers.normalization import BatchNormalization\n",
        "from time import time\n",
        "from keras.layers.advanced_activations import LeakyReLU, PReLU\n",
        "from keras.callbacks import EarlyStopping, ModelCheckpoint\n",
        "from tensorflow.python.client import device_lib\n",
        "from keras.utils import np_utils\n",
        "from sklearn.preprocessing import StandardScaler , MinMaxScaler, scale,Normalizer\n",
        "from sklearn.model_selection import train_test_split\n",
        "\n",
        "from hyperas import optim\n",
        "from hyperas.distributions import choice, uniform\n",
        "from hyperopt import Trials, STATUS_OK, tpe\n",
        "\n",
        "import pickle\n",
        "import os\n",
        "import random as rn\n",
        "\n",
        "import pandas_datareader.data as pd_reader\n",
        "import warnings\n",
        "warnings.filterwarnings(\"ignore\")\n",
        "\n",
        "pd.set_option('display.max_rows', None)\n",
        "pd.set_option('display.max_columns', None)\n",
        "np.set_printoptions(threshold=sys.maxsize)"
      ],
      "execution_count": 4,
      "outputs": [
        {
          "output_type": "display_data",
          "data": {
            "text/html": [
              "<p style=\"color: red;\">\n",
              "The default version of TensorFlow in Colab will soon switch to TensorFlow 2.x.<br>\n",
              "We recommend you <a href=\"https://www.tensorflow.org/guide/migrate\" target=\"_blank\">upgrade</a> now \n",
              "or ensure your notebook will continue to use TensorFlow 1.x via the <code>%tensorflow_version 1.x</code> magic:\n",
              "<a href=\"https://colab.research.google.com/notebooks/tensorflow_version.ipynb\" target=\"_blank\">more info</a>.</p>\n"
            ],
            "text/plain": [
              "<IPython.core.display.HTML object>"
            ]
          },
          "metadata": {
            "tags": []
          }
        },
        {
          "output_type": "stream",
          "text": [
            "Using TensorFlow backend.\n"
          ],
          "name": "stderr"
        }
      ]
    },
    {
      "cell_type": "code",
      "metadata": {
        "id": "fdNNG5y-fePA",
        "colab_type": "code",
        "colab": {}
      },
      "source": [
        "np.random.seed(37)\n",
        "\n",
        "# Setting the seed for python random numbers\n",
        "rn.seed(1254)\n",
        "\n",
        "# Setting the graph-level random seed.\n",
        "tf.random.set_seed(42)"
      ],
      "execution_count": 0,
      "outputs": []
    },
    {
      "cell_type": "code",
      "metadata": {
        "id": "wYnpU-ai-DQa",
        "colab_type": "code",
        "outputId": "9f697196-ebf1-4b08-d9bc-cd0a4a18afad",
        "colab": {
          "base_uri": "https://localhost:8080/",
          "height": 34
        }
      },
      "source": [
        "from platform import python_version\n",
        "print(python_version())"
      ],
      "execution_count": 6,
      "outputs": [
        {
          "output_type": "stream",
          "text": [
            "3.6.9\n"
          ],
          "name": "stdout"
        }
      ]
    },
    {
      "cell_type": "code",
      "metadata": {
        "id": "wsHP0KzBy7Kk",
        "colab_type": "code",
        "outputId": "7e30e50a-eeac-4e07-bbd4-2637130f280b",
        "colab": {
          "base_uri": "https://localhost:8080/",
          "height": 139
        }
      },
      "source": [
        "from google.colab import drive\n",
        "drive.mount('/gdrive')\n",
        "%ls /gdrive"
      ],
      "execution_count": 7,
      "outputs": [
        {
          "output_type": "stream",
          "text": [
            "Go to this URL in a browser: https://accounts.google.com/o/oauth2/auth?client_id=947318989803-6bn6qk8qdgf4n4g3pfee6491hc0brc4i.apps.googleusercontent.com&redirect_uri=urn%3aietf%3awg%3aoauth%3a2.0%3aoob&response_type=code&scope=email%20https%3a%2f%2fwww.googleapis.com%2fauth%2fdocs.test%20https%3a%2f%2fwww.googleapis.com%2fauth%2fdrive%20https%3a%2f%2fwww.googleapis.com%2fauth%2fdrive.photos.readonly%20https%3a%2f%2fwww.googleapis.com%2fauth%2fpeopleapi.readonly\n",
            "\n",
            "Enter your authorization code:\n",
            "··········\n",
            "Mounted at /gdrive\n",
            "\u001b[0m\u001b[01;34m'My Drive'\u001b[0m/\n"
          ],
          "name": "stdout"
        }
      ]
    },
    {
      "cell_type": "code",
      "metadata": {
        "id": "gx9aBM9hzH8m",
        "colab_type": "code",
        "outputId": "89ee10d4-f984-4a8a-c3f5-203dbc6423c6",
        "colab": {
          "base_uri": "https://localhost:8080/",
          "height": 34
        }
      },
      "source": [
        "!ls '/gdrive/My Drive/Colab Notebooks'"
      ],
      "execution_count": 8,
      "outputs": [
        {
          "output_type": "stream",
          "text": [
            "'LSTM with Hyperas - Auto Tuning for stock return prediction - GOOG.ipynb'\n"
          ],
          "name": "stdout"
        }
      ]
    },
    {
      "cell_type": "code",
      "metadata": {
        "id": "xN7WLcr1yh-d",
        "colab_type": "code",
        "outputId": "6936aba1-c44c-45df-996c-fc308b8e6733",
        "colab": {
          "base_uri": "https://localhost:8080/",
          "height": 235
        }
      },
      "source": [
        "## add company ticker\n",
        "company = 'GOOG'\n",
        "data = pd_reader.DataReader(\n",
        "     '{}'.format(company),\n",
        "     'yahoo')\n",
        "data = data[['Adj Close','High','Open','Low','Volume']]\n",
        "data[\"return\"] = np.log(1+((data[\"Adj Close\"]-data[\"Adj Close\"].shift(1))/data[\"Adj Close\"].shift(1)))\n",
        "data = data.dropna()\n",
        "factor_ratio = 0.7\n",
        "data_1 = data.iloc[:round(len(data)*factor_ratio)]\n",
        "data_2 = data[round(len(data)*factor_ratio):]\n",
        "data.head()"
      ],
      "execution_count": 9,
      "outputs": [
        {
          "output_type": "execute_result",
          "data": {
            "text/html": [
              "<div>\n",
              "<style scoped>\n",
              "    .dataframe tbody tr th:only-of-type {\n",
              "        vertical-align: middle;\n",
              "    }\n",
              "\n",
              "    .dataframe tbody tr th {\n",
              "        vertical-align: top;\n",
              "    }\n",
              "\n",
              "    .dataframe thead th {\n",
              "        text-align: right;\n",
              "    }\n",
              "</style>\n",
              "<table border=\"1\" class=\"dataframe\">\n",
              "  <thead>\n",
              "    <tr style=\"text-align: right;\">\n",
              "      <th></th>\n",
              "      <th>Adj Close</th>\n",
              "      <th>High</th>\n",
              "      <th>Open</th>\n",
              "      <th>Low</th>\n",
              "      <th>Volume</th>\n",
              "      <th>return</th>\n",
              "    </tr>\n",
              "    <tr>\n",
              "      <th>Date</th>\n",
              "      <th></th>\n",
              "      <th></th>\n",
              "      <th></th>\n",
              "      <th></th>\n",
              "      <th></th>\n",
              "      <th></th>\n",
              "    </tr>\n",
              "  </thead>\n",
              "  <tbody>\n",
              "    <tr>\n",
              "      <th>2010-01-05</th>\n",
              "      <td>310.829926</td>\n",
              "      <td>312.747742</td>\n",
              "      <td>312.418976</td>\n",
              "      <td>309.609497</td>\n",
              "      <td>6031900.0</td>\n",
              "      <td>-0.004413</td>\n",
              "    </tr>\n",
              "    <tr>\n",
              "      <th>2010-01-06</th>\n",
              "      <td>302.994293</td>\n",
              "      <td>311.761444</td>\n",
              "      <td>311.761444</td>\n",
              "      <td>302.047852</td>\n",
              "      <td>7987100.0</td>\n",
              "      <td>-0.025532</td>\n",
              "    </tr>\n",
              "    <tr>\n",
              "      <th>2010-01-07</th>\n",
              "      <td>295.940735</td>\n",
              "      <td>303.861053</td>\n",
              "      <td>303.562164</td>\n",
              "      <td>295.218445</td>\n",
              "      <td>12876600.0</td>\n",
              "      <td>-0.023555</td>\n",
              "    </tr>\n",
              "    <tr>\n",
              "      <th>2010-01-08</th>\n",
              "      <td>299.885956</td>\n",
              "      <td>300.498657</td>\n",
              "      <td>294.894653</td>\n",
              "      <td>293.455048</td>\n",
              "      <td>9483900.0</td>\n",
              "      <td>0.013243</td>\n",
              "    </tr>\n",
              "    <tr>\n",
              "      <th>2010-01-11</th>\n",
              "      <td>299.432648</td>\n",
              "      <td>301.101410</td>\n",
              "      <td>301.101410</td>\n",
              "      <td>295.910858</td>\n",
              "      <td>14479800.0</td>\n",
              "      <td>-0.001513</td>\n",
              "    </tr>\n",
              "  </tbody>\n",
              "</table>\n",
              "</div>"
            ],
            "text/plain": [
              "             Adj Close        High        Open         Low      Volume  \\\n",
              "Date                                                                     \n",
              "2010-01-05  310.829926  312.747742  312.418976  309.609497   6031900.0   \n",
              "2010-01-06  302.994293  311.761444  311.761444  302.047852   7987100.0   \n",
              "2010-01-07  295.940735  303.861053  303.562164  295.218445  12876600.0   \n",
              "2010-01-08  299.885956  300.498657  294.894653  293.455048   9483900.0   \n",
              "2010-01-11  299.432648  301.101410  301.101410  295.910858  14479800.0   \n",
              "\n",
              "              return  \n",
              "Date                  \n",
              "2010-01-05 -0.004413  \n",
              "2010-01-06 -0.025532  \n",
              "2010-01-07 -0.023555  \n",
              "2010-01-08  0.013243  \n",
              "2010-01-11 -0.001513  "
            ]
          },
          "metadata": {
            "tags": []
          },
          "execution_count": 9
        }
      ]
    },
    {
      "cell_type": "markdown",
      "metadata": {
        "id": "DA3QF3AFyh-g",
        "colab_type": "text"
      },
      "source": [
        "### Make sure to edit your stock ticker in def data()"
      ]
    },
    {
      "cell_type": "code",
      "metadata": {
        "id": "KnPMfRrTyh-h",
        "colab_type": "code",
        "colab": {}
      },
      "source": [
        "# ADD COMPANY TICKER\n",
        "def data():\n",
        "  company = 'GOOG'\n",
        "  data = pd_reader.DataReader(\n",
        "    '{}'.format(company),\n",
        "    'yahoo')\n",
        "  data = data[['Adj Close','High','Open','Low','Volume']]\n",
        "  data[\"return\"] = np.log(1+((data[\"Adj Close\"]-data[\"Adj Close\"].shift(1))/data[\"Adj Close\"].shift(1)))\n",
        "  data = data.dropna()\n",
        "  factor_ratio = 0.7\n",
        "  data_1 = data.iloc[:round(len(data)*factor_ratio)]\n",
        "  data_2 = data[round(len(data)*factor_ratio):]\n",
        "\n",
        "  ###############################################\n",
        "  ##  Feature engineering construct the retrun ##\n",
        "  ###############################################\n",
        "  training_set = data_1.iloc[:,0:-1].values\n",
        "  y_set = data_1[\"return\"].values\n",
        "  y_set = y_set.reshape(-1,1)\n",
        "  sc = MinMaxScaler()\n",
        "  #training_set_scaled =training_set\n",
        "  \n",
        "  y_set_scaled=y_set\n",
        "  training_set_scaled = sc.fit_transform(training_set)\n",
        "  #y_set_scaled = sc.fit_transform(y_set)\n",
        "\n",
        "  X_train = []\n",
        "  y_train = []\n",
        "\n",
        "  for i in range(45, len(training_set_scaled)):\n",
        "    X_train.append(training_set[i-45:i])\n",
        "    y_train.append(y_set_scaled[i][0])\n",
        "\n",
        "  X_train, y_train = np.array(X_train), np.array(y_train)\n",
        "  X_train = np.reshape(X_train, (X_train.shape[0], X_train.shape[1], 5))\n",
        "  \n",
        "  #test set\n",
        "  y_test = data_2['return'].values\n",
        "\n",
        "  dataset_total = data.iloc[:,0:-1]\n",
        "  inputs = dataset_total[len(dataset_total) - len(data_2) -45:].values\n",
        "  inputs = sc.fit_transform(inputs)\n",
        "\n",
        "  X_test = []\n",
        "  for i in range(45, len(inputs)):\n",
        "    X_test.append(inputs[i-45:i])\n",
        "  \n",
        "  X_test, y_test = np.array(X_test), np.array(y_test)\n",
        "  X_test = np.reshape(X_test, (X_test.shape[0], X_test.shape[1], 5))\n",
        "  \n",
        "  return X_train, y_train, X_test, y_test"
      ],
      "execution_count": 0,
      "outputs": []
    },
    {
      "cell_type": "code",
      "metadata": {
        "id": "AE0Zay3syh-i",
        "colab_type": "code",
        "outputId": "d0eff416-a12b-49f4-9046-bf9956387e91",
        "colab": {
          "base_uri": "https://localhost:8080/",
          "height": 34
        }
      },
      "source": [
        "X_train, y_train, X_test, y_test = data()\n",
        "X_train.shape[1],5"
      ],
      "execution_count": 11,
      "outputs": [
        {
          "output_type": "execute_result",
          "data": {
            "text/plain": [
              "(45, 5)"
            ]
          },
          "metadata": {
            "tags": []
          },
          "execution_count": 11
        }
      ]
    },
    {
      "cell_type": "markdown",
      "metadata": {
        "id": "WCBEfWOIyh-k",
        "colab_type": "text"
      },
      "source": [
        "### Things to consider \n",
        "1. create_model function: Change epochs to a lower number in the beginning\n",
        "2. create_model function: Start with lower number of layers - 4 was the best for me \n",
        "3. create_model function: The number of hidden layers is still to be tuned manually \n",
        "4. create_model function: if you are to add more layers. Make sure that the last layer is always set to (return_sequence=False) \n",
        "5. create_model function: you can add more parameters to tune: such as activation function, add more optimizers, or change dropout rate to a range between 0 & 1. \n",
        "6. if __name__ == '__main__' function: Make sure notebook_name matches the name of your notebook, otherwise it doesn't run. not sure how it would work on pycharm (you can try to remove this parameter) \n",
        "7. if __name__ == '__main__' function: you can change the number of max_eval to a lower number if you want this to run faster. This parameter is similar to a random search, and  will give you different models based on the max_eval number chosen. 3 or 4 should be okay with what I have seen so far. \n",
        "\n",
        "**This will take time if you are running it on your local machine**"
      ]
    },
    {
      "cell_type": "code",
      "metadata": {
        "id": "pweGTr00yh-k",
        "colab_type": "code",
        "colab": {}
      },
      "source": [
        "def create_model(X_train, y_train, X_test, y_test): \n",
        "\n",
        "  \"\"\"\n",
        "  Model providing function:\n",
        "\n",
        "  Create Keras model with double curly brackets dropped-in as needed.\n",
        "  Return value has to be a valid python dictionary with two customary keys:\n",
        "      - loss: Specify a numeric evaluation metric to be minimized\n",
        "      - status: Just use STATUS_OK and see hyperopt documentation if not feasible\n",
        "  The last one is optional, though recommended, namely:\n",
        "      - model: specify the model just created so that we can later use it again.\n",
        "  \"\"\"\n",
        "\n",
        "  model = Sequential()\n",
        "  model.add(LSTM(units={{choice([100, 200, 300])}}, input_shape=(45,5),go_backwards= True, return_sequences= True))\n",
        "  model.add(Dropout(rate={{uniform(0.01, 0.09)}}))\n",
        "  \n",
        "  model.add(LSTM(units={{choice([100, 200, 300])}}, return_sequences= False))\n",
        "  model.add(Dropout(rate={{uniform(0.01, 0.09)}}))\n",
        "  \n",
        "  #model.add(LSTM(units={{choice([100, 200, 300])}},go_backwards= True, return_sequences= False))\n",
        "  #model.add(Dropout(rate={{uniform(0.1, 0.9)}}))\n",
        "\n",
        "  #model.add(LSTM(units={{choice([100, 200, 300])}}, return_sequences= False))\n",
        "  #model.add(Dropout(rate={{uniform(0.2, 0.5)}}))\n",
        "  \n",
        "  #model.add(LSTM(units={{choice([100, 200, 300])}}))\n",
        "  #model.add(Dropout(rate={{uniform(0.2, 0.5)}}))\n",
        "  \n",
        "  model.add(Dense({{choice([50, 10, 5])}}))\n",
        "  model.add(Dense({{choice([50, 10,5])}}))\n",
        "  model.add(Dense(1))\n",
        "\n",
        "  model.compile(loss='mean_squared_error',\n",
        "                optimizer={{choice(['adam', 'sgd','rmsprop','adagrad'])}})\n",
        "\n",
        "  model.summary()\n",
        "\n",
        "  result = model.fit(X_train, y_train,\n",
        "            batch_size={{choice([100,50,80])}},\n",
        "            epochs=40, verbose=2)\n",
        "  #get the highest validation accuracy of the training epochs\n",
        "  validation_error = np.amin(result.history['loss']) \n",
        "  print('Best validation error of epoch:', validation_error)\n",
        "  return {'loss': -validation_error, 'status': STATUS_OK, 'model': model}"
      ],
      "execution_count": 0,
      "outputs": []
    },
    {
      "cell_type": "code",
      "metadata": {
        "id": "b8WEn-d5yh-m",
        "colab_type": "code",
        "outputId": "6227be92-5e7f-4d53-8855-42b96ba6d8d4",
        "colab": {
          "base_uri": "https://localhost:8080/",
          "height": 1000
        }
      },
      "source": [
        "if __name__ == '__main__':\n",
        "    best_run, best_model = optim.minimize(model=create_model,\n",
        "                                    data=data,\n",
        "                                    algo=tpe.suggest,\n",
        "                                    max_evals=1,\n",
        "                                    trials=Trials(),\n",
        "                                    notebook_name= os.path.join('..','gdrive','My Drive','Colab Notebooks','LSTM with Hyperas - Auto Tuning for stock return prediction - GOOG'))\n",
        "    X_train, Y_train, X_test, Y_test = data()\n",
        "    print(\"Evalutation of best performing model:\")\n",
        "    print(best_model)\n",
        "    print(\"Best performing model chosen hyper-parameters:\")\n",
        "    print(best_run)"
      ],
      "execution_count": 13,
      "outputs": [
        {
          "output_type": "stream",
          "text": [
            ">>> Imports:\n",
            "#coding=utf-8\n",
            "\n",
            "from __future__ import print_function\n",
            "\n",
            "try:\n",
            "    import numpy as np\n",
            "except:\n",
            "    pass\n",
            "\n",
            "try:\n",
            "    import pandas as pd\n",
            "except:\n",
            "    pass\n",
            "\n",
            "try:\n",
            "    import matplotlib.pyplot as plt\n",
            "except:\n",
            "    pass\n",
            "\n",
            "try:\n",
            "    from mpl_toolkits.mplot3d import Axes3D\n",
            "except:\n",
            "    pass\n",
            "\n",
            "try:\n",
            "    import seaborn as sns\n",
            "except:\n",
            "    pass\n",
            "\n",
            "try:\n",
            "    from tqdm import tqdm\n",
            "except:\n",
            "    pass\n",
            "\n",
            "try:\n",
            "    import dask.dataframe as dd\n",
            "except:\n",
            "    pass\n",
            "\n",
            "try:\n",
            "    import tensorflow.compat.v2 as tf\n",
            "except:\n",
            "    pass\n",
            "\n",
            "try:\n",
            "    import sys\n",
            "except:\n",
            "    pass\n",
            "\n",
            "try:\n",
            "    import keras as ks\n",
            "except:\n",
            "    pass\n",
            "\n",
            "try:\n",
            "    from keras import backend as K\n",
            "except:\n",
            "    pass\n",
            "\n",
            "try:\n",
            "    from keras import metrics\n",
            "except:\n",
            "    pass\n",
            "\n",
            "try:\n",
            "    from keras.models import Sequential\n",
            "except:\n",
            "    pass\n",
            "\n",
            "try:\n",
            "    from keras.layers.core import Dense, Activation, Dropout, Flatten\n",
            "except:\n",
            "    pass\n",
            "\n",
            "try:\n",
            "    from keras.layers.recurrent import LSTM\n",
            "except:\n",
            "    pass\n",
            "\n",
            "try:\n",
            "    from keras.layers import Dense, Conv1D, MaxPool2D, Flatten, Dropout, CuDNNLSTM, CuDNNGRU, Conv2D, MaxPooling2D\n",
            "except:\n",
            "    pass\n",
            "\n",
            "try:\n",
            "    from keras.callbacks import EarlyStopping, TensorBoard, ModelCheckpoint\n",
            "except:\n",
            "    pass\n",
            "\n",
            "try:\n",
            "    from keras.optimizers import Adam, SGD, Nadam\n",
            "except:\n",
            "    pass\n",
            "\n",
            "try:\n",
            "    from keras.layers.normalization import BatchNormalization\n",
            "except:\n",
            "    pass\n",
            "\n",
            "try:\n",
            "    from time import time\n",
            "except:\n",
            "    pass\n",
            "\n",
            "try:\n",
            "    from keras.layers.advanced_activations import LeakyReLU, PReLU\n",
            "except:\n",
            "    pass\n",
            "\n",
            "try:\n",
            "    from keras.callbacks import EarlyStopping, ModelCheckpoint\n",
            "except:\n",
            "    pass\n",
            "\n",
            "try:\n",
            "    from tensorflow.python.client import device_lib\n",
            "except:\n",
            "    pass\n",
            "\n",
            "try:\n",
            "    from keras.utils import np_utils\n",
            "except:\n",
            "    pass\n",
            "\n",
            "try:\n",
            "    from sklearn.preprocessing import StandardScaler, MinMaxScaler, scale, Normalizer\n",
            "except:\n",
            "    pass\n",
            "\n",
            "try:\n",
            "    from sklearn.model_selection import train_test_split\n",
            "except:\n",
            "    pass\n",
            "\n",
            "try:\n",
            "    from hyperas import optim\n",
            "except:\n",
            "    pass\n",
            "\n",
            "try:\n",
            "    from hyperas.distributions import choice, uniform\n",
            "except:\n",
            "    pass\n",
            "\n",
            "try:\n",
            "    from hyperopt import Trials, STATUS_OK, tpe\n",
            "except:\n",
            "    pass\n",
            "\n",
            "try:\n",
            "    import pickle\n",
            "except:\n",
            "    pass\n",
            "\n",
            "try:\n",
            "    import os\n",
            "except:\n",
            "    pass\n",
            "\n",
            "try:\n",
            "    import random as rn\n",
            "except:\n",
            "    pass\n",
            "\n",
            "try:\n",
            "    import pandas_datareader.data as pd_reader\n",
            "except:\n",
            "    pass\n",
            "\n",
            "try:\n",
            "    import warnings\n",
            "except:\n",
            "    pass\n",
            "\n",
            "try:\n",
            "    from platform import python_version\n",
            "except:\n",
            "    pass\n",
            "\n",
            "try:\n",
            "    from google.colab import drive\n",
            "except:\n",
            "    pass\n",
            "\n",
            "try:\n",
            "    import pickle\n",
            "except:\n",
            "    pass\n",
            "\n",
            "try:\n",
            "    from google.colab import files\n",
            "except:\n",
            "    pass\n",
            "\n",
            ">>> Hyperas search space:\n",
            "\n",
            "def get_space():\n",
            "    return {\n",
            "        'units': hp.choice('units', [100, 200, 300]),\n",
            "        'rate': hp.uniform('rate', 0.01, 0.09),\n",
            "        'units_1': hp.choice('units_1', [100, 200, 300]),\n",
            "        'rate_1': hp.uniform('rate_1', 0.01, 0.09),\n",
            "        'units_2': hp.choice('units_2', [100, 200, 300]),\n",
            "        'rate_2': hp.uniform('rate_2', 0.1, 0.9),\n",
            "        'units_3': hp.choice('units_3', [100, 200, 300]),\n",
            "        'rate_3': hp.uniform('rate_3', 0.2, 0.5),\n",
            "        'units_4': hp.choice('units_4', [100, 200, 300]),\n",
            "        'rate_4': hp.uniform('rate_4', 0.2, 0.5),\n",
            "        'Dense': hp.choice('Dense', [50, 10, 5]),\n",
            "        'Dense_1': hp.choice('Dense_1', [50, 10,5]),\n",
            "        'optimizer': hp.choice('optimizer', ['adam', 'sgd','rmsprop','adagrad']),\n",
            "        'batch_size': hp.choice('batch_size', [100,50,80]),\n",
            "    }\n",
            "\n",
            ">>> Data\n",
            "   1: \n",
            "   2: company = 'GOOG'\n",
            "   3: data = pd_reader.DataReader(\n",
            "   4:   '{}'.format(company),\n",
            "   5:   'yahoo')\n",
            "   6: data = data[['Adj Close','High','Open','Low','Volume']]\n",
            "   7: data[\"return\"] = np.log(1+((data[\"Adj Close\"]-data[\"Adj Close\"].shift(1))/data[\"Adj Close\"].shift(1)))\n",
            "   8: data = data.dropna()\n",
            "   9: factor_ratio = 0.7\n",
            "  10: data_1 = data.iloc[:round(len(data)*factor_ratio)]\n",
            "  11: data_2 = data[round(len(data)*factor_ratio):]\n",
            "  12: \n",
            "  13: ###############################################\n",
            "  14: ##  Feature engineering construct the retrun ##\n",
            "  15: ###############################################\n",
            "  16: training_set = data_1.iloc[:,0:-1].values\n",
            "  17: y_set = data_1[\"return\"].values\n",
            "  18: y_set = y_set.reshape(-1,1)\n",
            "  19: sc = MinMaxScaler()\n",
            "  20: #training_set_scaled =training_set\n",
            "  21: \n",
            "  22: y_set_scaled=y_set\n",
            "  23: training_set_scaled = sc.fit_transform(training_set)\n",
            "  24: #y_set_scaled = sc.fit_transform(y_set)\n",
            "  25: \n",
            "  26: X_train = []\n",
            "  27: y_train = []\n",
            "  28: \n",
            "  29: for i in range(45, len(training_set_scaled)):\n",
            "  30:   X_train.append(training_set[i-45:i])\n",
            "  31:   y_train.append(y_set_scaled[i][0])\n",
            "  32: \n",
            "  33: X_train, y_train = np.array(X_train), np.array(y_train)\n",
            "  34: X_train = np.reshape(X_train, (X_train.shape[0], X_train.shape[1], 5))\n",
            "  35: \n",
            "  36: #test set\n",
            "  37: y_test = data_2['return'].values\n",
            "  38: \n",
            "  39: dataset_total = data.iloc[:,0:-1]\n",
            "  40: inputs = dataset_total[len(dataset_total) - len(data_2) -45:].values\n",
            "  41: inputs = sc.fit_transform(inputs)\n",
            "  42: \n",
            "  43: X_test = []\n",
            "  44: for i in range(45, len(inputs)):\n",
            "  45:   X_test.append(inputs[i-45:i])\n",
            "  46: \n",
            "  47: X_test, y_test = np.array(X_test), np.array(y_test)\n",
            "  48: X_test = np.reshape(X_test, (X_test.shape[0], X_test.shape[1], 5))\n",
            "  49: \n",
            "  50: \n",
            "  51: \n",
            "  52: \n",
            ">>> Resulting replaced keras model:\n",
            "\n",
            "   1: def keras_fmin_fnct(space):\n",
            "   2: \n",
            "   3: \n",
            "   4:   \"\"\"\n",
            "   5:   Model providing function:\n",
            "   6: \n",
            "   7:   Create Keras model with double curly brackets dropped-in as needed.\n",
            "   8:   Return value has to be a valid python dictionary with two customary keys:\n",
            "   9:       - loss: Specify a numeric evaluation metric to be minimized\n",
            "  10:       - status: Just use STATUS_OK and see hyperopt documentation if not feasible\n",
            "  11:   The last one is optional, though recommended, namely:\n",
            "  12:       - model: specify the model just created so that we can later use it again.\n",
            "  13:   \"\"\"\n",
            "  14: \n",
            "  15:   model = Sequential()\n",
            "  16:   model.add(LSTM(units=space['units'], input_shape=(45,5),go_backwards= True, return_sequences= True))\n",
            "  17:   model.add(Dropout(rate=space['rate']))\n",
            "  18:   \n",
            "  19:   model.add(LSTM(units=space['units_1'], return_sequences= False))\n",
            "  20:   model.add(Dropout(rate=space['rate_1']))\n",
            "  21:   \n",
            "  22:   #model.add(LSTM(units=space['units_2'],go_backwards= True, return_sequences= False))\n",
            "  23:   #model.add(Dropout(rate=space['rate_2']))\n",
            "  24: \n",
            "  25:   #model.add(LSTM(units=space['units_3'], return_sequences= False))\n",
            "  26:   #model.add(Dropout(rate=space['rate_3']))\n",
            "  27:   \n",
            "  28:   #model.add(LSTM(units=space['units_4']))\n",
            "  29:   #model.add(Dropout(rate=space['rate_4']))\n",
            "  30:   \n",
            "  31:   model.add(Dense(space['Dense']))\n",
            "  32:   model.add(Dense(space['Dense_1']))\n",
            "  33:   model.add(Dense(1))\n",
            "  34: \n",
            "  35:   model.compile(loss='mean_squared_error',\n",
            "  36:                 optimizer=space['optimizer'])\n",
            "  37: \n",
            "  38:   model.summary()\n",
            "  39: \n",
            "  40:   result = model.fit(X_train, y_train,\n",
            "  41:             batch_size=space['batch_size'],\n",
            "  42:             epochs=40, verbose=2)\n",
            "  43:   #get the highest validation accuracy of the training epochs\n",
            "  44:   validation_error = np.amin(result.history['loss']) \n",
            "  45:   print('Best validation error of epoch:', validation_error)\n",
            "  46:   return {'loss': -validation_error, 'status': STATUS_OK, 'model': model}\n",
            "  47: \n",
            "  0%|          | 0/1 [00:00<?, ?it/s, best loss: ?]WARNING:tensorflow:From /usr/local/lib/python3.6/dist-packages/keras/backend/tensorflow_backend.py:66: The name tf.get_default_graph is deprecated. Please use tf.compat.v1.get_default_graph instead.\n",
            "\n",
            "WARNING:tensorflow:From /usr/local/lib/python3.6/dist-packages/keras/backend/tensorflow_backend.py:3733: calling dropout (from tensorflow.python.ops.nn_ops) with keep_prob is deprecated and will be removed in a future version.\n",
            "Instructions for updating:\n",
            "Please use `rate` instead of `keep_prob`. Rate should be set to `rate = 1 - keep_prob`.\n",
            "WARNING:tensorflow:From /usr/local/lib/python3.6/dist-packages/keras/optimizers.py:793: The name tf.train.Optimizer is deprecated. Please use tf.compat.v1.train.Optimizer instead.\n",
            "\n",
            "Model: \"sequential_1\"\n",
            "_________________________________________________________________\n",
            "Layer (type)                 Output Shape              Param #   \n",
            "=================================================================\n",
            "lstm_1 (LSTM)                (None, 45, 200)           164800    \n",
            "_________________________________________________________________\n",
            "dropout_1 (Dropout)          (None, 45, 200)           0         \n",
            "_________________________________________________________________\n",
            "lstm_2 (LSTM)                (None, 300)               601200    \n",
            "_________________________________________________________________\n",
            "dropout_2 (Dropout)          (None, 300)               0         \n",
            "_________________________________________________________________\n",
            "dense_1 (Dense)              (None, 5)                 1505      \n",
            "_________________________________________________________________\n",
            "dense_2 (Dense)              (None, 10)                60        \n",
            "_________________________________________________________________\n",
            "dense_3 (Dense)              (None, 1)                 11        \n",
            "=================================================================\n",
            "Total params: 767,576\n",
            "Trainable params: 767,576\n",
            "Non-trainable params: 0\n",
            "_________________________________________________________________\n",
            "  0%|          | 0/1 [00:00<?, ?it/s, best loss: ?]WARNING:tensorflow:From /usr/local/lib/python3.6/dist-packages/tensorflow_core/python/ops/math_grad.py:1424: where (from tensorflow.python.ops.array_ops) is deprecated and will be removed in a future version.\n",
            "Instructions for updating:\n",
            "Use tf.where in 2.0, which has the same broadcast rule as np.where\n",
            "Epoch 1/40\n",
            " - 7s - loss: 0.1687\n",
            "\n",
            "Epoch 2/40\n",
            " - 3s - loss: 0.0052\n",
            "\n",
            "Epoch 3/40\n",
            " - 3s - loss: 9.3160e-04\n",
            "\n",
            "Epoch 4/40\n",
            " - 3s - loss: 5.6539e-04\n",
            "\n",
            "Epoch 5/40\n",
            " - 3s - loss: 4.9538e-04\n",
            "\n",
            "Epoch 6/40\n",
            " - 3s - loss: 5.6028e-04\n",
            "\n",
            "Epoch 7/40\n",
            " - 3s - loss: 5.1316e-04\n",
            "\n",
            "Epoch 8/40\n",
            " - 3s - loss: 4.9135e-04\n",
            "\n",
            "Epoch 9/40\n",
            " - 3s - loss: 5.0557e-04\n",
            "\n",
            "Epoch 10/40\n",
            " - 3s - loss: 4.8318e-04\n",
            "\n",
            "Epoch 11/40\n",
            " - 3s - loss: 5.0020e-04\n",
            "\n",
            "Epoch 12/40\n",
            " - 3s - loss: 4.4014e-04\n",
            "\n",
            "Epoch 13/40\n",
            " - 3s - loss: 4.6302e-04\n",
            "\n",
            "Epoch 14/40\n",
            " - 3s - loss: 4.6869e-04\n",
            "\n",
            "Epoch 15/40\n",
            " - 3s - loss: 4.8756e-04\n",
            "\n",
            "Epoch 16/40\n",
            " - 3s - loss: 4.3679e-04\n",
            "\n",
            "Epoch 17/40\n",
            " - 3s - loss: 4.6473e-04\n",
            "\n",
            "Epoch 18/40\n",
            " - 3s - loss: 4.6064e-04\n",
            "\n",
            "Epoch 19/40\n",
            " - 3s - loss: 4.6116e-04\n",
            "\n",
            "Epoch 20/40\n",
            " - 3s - loss: 4.0178e-04\n",
            "\n",
            "Epoch 21/40\n",
            " - 3s - loss: 4.5124e-04\n",
            "\n",
            "Epoch 22/40\n",
            " - 3s - loss: 4.4034e-04\n",
            "\n",
            "Epoch 23/40\n",
            " - 3s - loss: 4.1261e-04\n",
            "\n",
            "Epoch 24/40\n",
            " - 3s - loss: 4.1332e-04\n",
            "\n",
            "Epoch 25/40\n",
            " - 3s - loss: 4.2574e-04\n",
            "\n",
            "Epoch 26/40\n",
            " - 3s - loss: 3.9115e-04\n",
            "\n",
            "Epoch 27/40\n",
            " - 3s - loss: 4.0205e-04\n",
            "\n",
            "Epoch 28/40\n",
            " - 3s - loss: 4.0508e-04\n",
            "\n",
            "Epoch 29/40\n",
            " - 3s - loss: 3.7107e-04\n",
            "\n",
            "Epoch 30/40\n",
            " - 3s - loss: 4.2588e-04\n",
            "\n",
            "Epoch 31/40\n",
            " - 3s - loss: 4.1303e-04\n",
            "\n",
            "Epoch 32/40\n",
            " - 3s - loss: 3.8539e-04\n",
            "\n",
            "Epoch 33/40\n",
            " - 3s - loss: 3.8283e-04\n",
            "\n",
            "Epoch 34/40\n",
            " - 3s - loss: 3.6652e-04\n",
            "\n",
            "Epoch 35/40\n",
            " - 3s - loss: 3.7482e-04\n",
            "\n",
            "Epoch 36/40\n",
            " - 3s - loss: 3.4644e-04\n",
            "\n",
            "Epoch 37/40\n",
            " - 3s - loss: 3.5986e-04\n",
            "\n",
            "Epoch 38/40\n",
            " - 3s - loss: 3.6117e-04\n",
            "\n",
            "Epoch 39/40\n",
            " - 3s - loss: 3.5796e-04\n",
            "\n",
            "Epoch 40/40\n",
            " - 3s - loss: 3.5161e-04\n",
            "\n",
            "Best validation error of epoch:\n",
            "0.0003464378910037972\n",
            "100%|██████████| 1/1 [01:52<00:00, 112.16s/it, best loss: -0.0003464378910037972]\n",
            "Evalutation of best performing model:\n",
            "<keras.engine.sequential.Sequential object at 0x7f13bb40ea20>\n",
            "Best performing model chosen hyper-parameters:\n",
            "{'Dense': 2, 'Dense_1': 1, 'batch_size': 2, 'optimizer': 0, 'rate': 0.07582744887138203, 'rate_1': 0.015229584243240595, 'rate_2': 0.114254892109782, 'rate_3': 0.45350896294219734, 'rate_4': 0.38326289278437076, 'units': 1, 'units_1': 2, 'units_2': 0, 'units_3': 1, 'units_4': 2}\n"
          ],
          "name": "stdout"
        }
      ]
    },
    {
      "cell_type": "code",
      "metadata": {
        "id": "Eyo4NHdqyh-n",
        "colab_type": "code",
        "outputId": "7aa2c88c-0858-4aca-9c19-c0ebf32e4329",
        "colab": {
          "base_uri": "https://localhost:8080/",
          "height": 255
        }
      },
      "source": [
        "best_run"
      ],
      "execution_count": 14,
      "outputs": [
        {
          "output_type": "execute_result",
          "data": {
            "text/plain": [
              "{'Dense': 2,\n",
              " 'Dense_1': 1,\n",
              " 'batch_size': 2,\n",
              " 'optimizer': 0,\n",
              " 'rate': 0.07582744887138203,\n",
              " 'rate_1': 0.015229584243240595,\n",
              " 'rate_2': 0.114254892109782,\n",
              " 'rate_3': 0.45350896294219734,\n",
              " 'rate_4': 0.38326289278437076,\n",
              " 'units': 1,\n",
              " 'units_1': 2,\n",
              " 'units_2': 0,\n",
              " 'units_3': 1,\n",
              " 'units_4': 2}"
            ]
          },
          "metadata": {
            "tags": []
          },
          "execution_count": 14
        }
      ]
    },
    {
      "cell_type": "code",
      "metadata": {
        "scrolled": true,
        "id": "7ZzZ2-PHyh-p",
        "colab_type": "code",
        "outputId": "43850584-e892-4610-dfb1-cae6b887976e",
        "colab": {
          "base_uri": "https://localhost:8080/",
          "height": 391
        }
      },
      "source": [
        "best_model.summary()"
      ],
      "execution_count": 15,
      "outputs": [
        {
          "output_type": "stream",
          "text": [
            "Model: \"sequential_1\"\n",
            "_________________________________________________________________\n",
            "Layer (type)                 Output Shape              Param #   \n",
            "=================================================================\n",
            "lstm_1 (LSTM)                (None, 45, 200)           164800    \n",
            "_________________________________________________________________\n",
            "dropout_1 (Dropout)          (None, 45, 200)           0         \n",
            "_________________________________________________________________\n",
            "lstm_2 (LSTM)                (None, 300)               601200    \n",
            "_________________________________________________________________\n",
            "dropout_2 (Dropout)          (None, 300)               0         \n",
            "_________________________________________________________________\n",
            "dense_1 (Dense)              (None, 5)                 1505      \n",
            "_________________________________________________________________\n",
            "dense_2 (Dense)              (None, 10)                60        \n",
            "_________________________________________________________________\n",
            "dense_3 (Dense)              (None, 1)                 11        \n",
            "=================================================================\n",
            "Total params: 767,576\n",
            "Trainable params: 767,576\n",
            "Non-trainable params: 0\n",
            "_________________________________________________________________\n"
          ],
          "name": "stdout"
        }
      ]
    },
    {
      "cell_type": "markdown",
      "metadata": {
        "id": "zLJZi8Hjyh-q",
        "colab_type": "text"
      },
      "source": [
        "## Make sure to edit your stock ticker again in the next cell"
      ]
    },
    {
      "cell_type": "code",
      "metadata": {
        "id": "Oa_aX3gvyh-r",
        "colab_type": "code",
        "colab": {}
      },
      "source": [
        "##maka sure to change the stock ticker here \n",
        "## add company ticker\n",
        "company = 'GOOG'\n",
        "data = pd_reader.DataReader(\n",
        "     '{}'.format(company),\n",
        "     'yahoo')\n",
        "data = data[['Adj Close','High','Open','Low','Volume']]\n",
        "data[\"return\"] = np.log(1+((data[\"Adj Close\"]-data[\"Adj Close\"].shift(1))/data[\"Adj Close\"].shift(1)))\n",
        "data = data.dropna()\n",
        "factor_ratio = 0.7\n",
        "data_1 = data.iloc[:round(len(data)*factor_ratio)]\n",
        "data_2 = data[round(len(data)*factor_ratio):]\n",
        " \n",
        "training_set = data_1.iloc[:,0:-1].values\n",
        "y_set = data_1[\"return\"].values\n",
        "y_set = y_set.reshape(-1,1)\n",
        "sc = MinMaxScaler()\n",
        "y_set_scaled = y_set\n",
        "training_set_scaled = sc.fit_transform(training_set)"
      ],
      "execution_count": 0,
      "outputs": []
    },
    {
      "cell_type": "code",
      "metadata": {
        "id": "alb_Bonxyh-r",
        "colab_type": "code",
        "colab": {}
      },
      "source": [
        "real_stock_price = data_2['return'].values\n",
        "\n",
        "dataset_total = data.iloc[:,0:-1]\n",
        "inputs = dataset_total[len(dataset_total) - len(data_2) -45:].values\n",
        "inputs = sc.fit_transform(inputs)\n",
        "\n",
        "X_test = []\n",
        "for i in range(45, len(inputs)):\n",
        "    X_test.append(inputs[i-45:i])"
      ],
      "execution_count": 0,
      "outputs": []
    },
    {
      "cell_type": "code",
      "metadata": {
        "id": "414zI9ISyh-s",
        "colab_type": "code",
        "outputId": "3f532a96-4096-48ed-9d87-033a8f1f3aef",
        "colab": {
          "base_uri": "https://localhost:8080/",
          "height": 34
        }
      },
      "source": [
        "X_test = np.array(X_test)\n",
        "X_test = np.reshape(X_test, (X_test.shape[0], X_test.shape[1], 5))\n",
        "X_test.shape"
      ],
      "execution_count": 18,
      "outputs": [
        {
          "output_type": "execute_result",
          "data": {
            "text/plain": [
              "(758, 45, 5)"
            ]
          },
          "metadata": {
            "tags": []
          },
          "execution_count": 18
        }
      ]
    },
    {
      "cell_type": "code",
      "metadata": {
        "scrolled": true,
        "id": "VaNcjScYyh-v",
        "colab_type": "code",
        "outputId": "ad59db07-44f6-4591-c0ee-36ec46f101ae",
        "colab": {
          "base_uri": "https://localhost:8080/",
          "height": 34
        }
      },
      "source": [
        "predicted_stock_price= best_model.predict(X_test)\n",
        "predicted_stock = pd.DataFrame(predicted_stock_price,columns=['perdict return'])\n",
        "real_stock = pd.DataFrame(real_stock_price,columns=['real return'])\n",
        "data_test = data[round(len(data)*factor_ratio):]\n",
        "data_test.reset_index(inplace=True)\n",
        "data_test = data_test[['Date']]\n",
        "\n",
        "final = pd.merge(real_stock, predicted_stock, left_index=True, right_index=True)\n",
        "final1 = pd.merge(data_test, final, left_index=True, right_index=True)\n",
        "final1.to_csv(\"{}.csv\".format(company))\n",
        "final['direction'] = final[\"real return\"]*final[\"perdict return\"]\n",
        "def iden(x):\n",
        "    if x >0:\n",
        "        return 1\n",
        "    else:\n",
        "        return 0\n",
        "final[\"hit\"] = final[\"direction\"].apply(lambda x:iden(x))\n",
        "print('hit ratio:{}'.format(final[\"hit\"].sum()/final[\"hit\"].count()))"
      ],
      "execution_count": 20,
      "outputs": [
        {
          "output_type": "stream",
          "text": [
            "hit ratio:0.5237467018469657\n"
          ],
          "name": "stdout"
        }
      ]
    },
    {
      "cell_type": "code",
      "metadata": {
        "id": "vzElYx-nyh-x",
        "colab_type": "code",
        "outputId": "02a53580-b457-4d72-d8f4-c869e1040941",
        "colab": {
          "base_uri": "https://localhost:8080/",
          "height": 295
        }
      },
      "source": [
        "plt.plot(real_stock_price, color = 'black', label = '{} Stock Price'.format(company))\n",
        "plt.plot(predicted_stock_price, color = 'green', label = 'Predicted {} Stock return'.format(company))\n",
        "plt.title('{} Stock return Prediction'.format(company))\n",
        "plt.xlabel('Time')\n",
        "plt.ylabel('{} Stock return'.format(company))\n",
        "plt.legend()\n",
        "plt.show()"
      ],
      "execution_count": 21,
      "outputs": [
        {
          "output_type": "display_data",
          "data": {
            "image/png": "[encoded data removed]",
            "text/plain": [
              "<Figure size 432x288 with 1 Axes>"
            ]
          },
          "metadata": {
            "tags": []
          }
        }
      ]
    },
    {
      "cell_type": "code",
      "metadata": {
        "id": "dEO8DPvoGn2q",
        "colab_type": "code",
        "colab": {}
      },
      "source": [
        "import pickle\n",
        "with open('GOOG_model.pickle','wb') as f:\n",
        "    pickle.dump(best_model,f)\n",
        "\n",
        "with open('GOOG_model.pickle','rb') as f:\n",
        "    model = pickle.load(f)"
      ],
      "execution_count": 0,
      "outputs": []
    },
    {
      "cell_type": "code",
      "metadata": {
        "id": "-lbroo87JvWw",
        "colab_type": "code",
        "colab": {}
      },
      "source": [
        "from google.colab import files\n",
        "#files.download('GOOG_model.pickle') \n",
        "files.download(\"GOOG.csv\")"
      ],
      "execution_count": 0,
      "outputs": []
    }
  ]
}